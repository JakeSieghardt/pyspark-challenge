{
 "cells": [
  {
   "cell_type": "code",
   "execution_count": null,
   "metadata": {
    "ExecuteTime": {
     "end_time": "2018-07-12T11:14:13.655851Z",
     "start_time": "2018-07-12T10:14:14.085Z"
    }
   },
   "outputs": [],
   "source": [
    "import collections\n",
    "from operator import add\n",
    "from pyspark import SparkContext\n",
    "\n",
    "sc = SparkContext.getOrCreate()\n",
    "\n",
    "\n",
    "Patient = collections.namedtuple(\"Patient\", \"id name address phone_number\")\n",
    "\n",
    "BloodTest = collections.namedtuple(\"BloodTest\", \"id id_patient code date description result\")\n",
    "\n",
    "\n",
    "patient1=Patient(1, \"Alice\", \"Pza L. Da Vinci 32\", \"02 2399\")\n",
    "patient2=Patient(2, \"Bob\", \"Via Golgi 40\", \"02 23992\")\n",
    "bloodTest1=BloodTest(1,1,1, \"17/2/2017\", \"Glucose\",94)\n",
    "bloodTest2=BloodTest(2,1,2, \"17/2/2017\", \"Cholesterol\",140)\n",
    "bloodTest3=BloodTest(3,2,1, \"16/2/2017\", \"Glucose\",83)\n",
    "bloodTest4=BloodTest(4,2,2, \"16/2/2017\", \"Cholesterol\",238)\n",
    "\n",
    "\n",
    "patientsRDD=sc.parallelize([patient1,patient2])\n",
    "testsRDD=sc.parallelize([bloodTest1,bloodTest2,bloodTest3,bloodTest4])\n",
    "\n",
    "\n",
    "#Provide the name of patients with Cholesterol larger than 220"
   ]
  },
  {
   "cell_type": "code",
   "execution_count": null,
   "metadata": {
    "ExecuteTime": {
     "end_time": "2018-07-12T11:14:14.837644Z",
     "start_time": "2018-07-12T10:14:14.511Z"
    }
   },
   "outputs": [],
   "source": [
    "\n",
    "filteredRDD=testsRDD.filter(lambda x : x[4]==\"Cholesterol\" and x[5]>220)\n",
    "\n",
    "filteredRDD.collect()\n",
    "\n",
    "\n"
   ]
  },
  {
   "cell_type": "code",
   "execution_count": null,
   "metadata": {
    "ExecuteTime": {
     "end_time": "2018-07-12T11:14:16.893676Z",
     "start_time": "2018-07-12T10:14:14.937Z"
    }
   },
   "outputs": [],
   "source": [
    "mappedRDD=filteredRDD.map(lambda x : (x[1], x[0]))\n",
    "mappedRDD.collect()\n",
    "\n",
    "\n"
   ]
  },
  {
   "cell_type": "code",
   "execution_count": null,
   "metadata": {},
   "outputs": [],
   "source": [
    "joinedRDD=mappedRDD.join(patientsRDD)\n",
    "joinedRDD.collect()"
   ]
  },
  {
   "cell_type": "code",
   "execution_count": null,
   "metadata": {
    "ExecuteTime": {
     "end_time": "2018-07-12T11:14:18.378635Z",
     "start_time": "2018-07-12T10:14:15.320Z"
    }
   },
   "outputs": [],
   "source": [
    "resultsRDD=joinedRDD.map(lambda x : x[1][1])\n",
    "resultsRDD.collect()[0]\n",
    "\n",
    "\n"
   ]
  }
 ],
 "metadata": {
  "kernelspec": {
   "display_name": "Python 3",
   "language": "python",
   "name": "python3"
  },
  "language_info": {
   "codemirror_mode": {
    "name": "ipython",
    "version": 3
   },
   "file_extension": ".py",
   "mimetype": "text/x-python",
   "name": "python",
   "nbconvert_exporter": "python",
   "pygments_lexer": "ipython3",
   "version": "3.6.3"
  }
 },
 "nbformat": 4,
 "nbformat_minor": 2
}
