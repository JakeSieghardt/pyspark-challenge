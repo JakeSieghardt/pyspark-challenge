{
 "cells": [
  {
   "cell_type": "code",
   "execution_count": null,
   "metadata": {
    "ExecuteTime": {
     "end_time": "2018-07-12T19:35:11.859025Z",
     "start_time": "2018-07-12T18:34:52.439Z"
    }
   },
   "outputs": [],
   "source": [
    "import collections\n",
    "from pyspark import SparkContext\n",
    "\n",
    "sc = SparkContext.getOrCreate()\n",
    "\n",
    "\n",
    "User = collections.namedtuple(\"User\", \"id nickname\")\n",
    "Place = collections.namedtuple(\"Place\", \"id name description classification\")\n",
    "Review = collections.namedtuple(\"Review\", \"id id_user id_place text rating\")\n",
    "\n",
    "\n",
    "user1=User(1,\"barack2009\")\n",
    "user2=User(2,\"donald2017\")\n",
    "\n",
    "place1 = Place(1,\"Daniel\", \"NYC rank 1 French Restaurant\", \"Fine dining,French\")\n",
    "place2 = Place(2,\"Pizza Suprema\",\"Owned by the Same Italian Family for over 45 years!\", \"Italian,Pizza,Fast Food\")\n",
    "place3 = Place(3, \"Los Tacos No. 1\",\"LOS TACOS No.1  was created after 3 close friends from Tijuana decided to bring the authentic Mexican taco to the east coast\", \"Mexican,Latin,Fast Food\")\n",
    "\n",
    "\n",
    "review1 = Review(1,2,1,\"Best restaurant in New York in my opinion. Only a few Michelin 3 stars in Paris are comparable\",5)\n",
    "review2 = Review(2,1,2,\"Yummy fresh pizza! Ordered pizza to our room. As a warning - it is MASSIVE!!! Hey yummy and filling and everything tasted fresh\",5)\n",
    "review3 = Review(3,1,3,\"Amazing, quick Mexican food 4. We had Los Tacos for lunch this past weekend. It was so authentic. Small menu, but it's ready in minutes. SOOO good!\",4)\n",
    "review4 = Review(4,1,3,\"I went to the one on 43rd st. This was freaking good best steak taco I have ever had!!! So tasty! Just excellent!\",5)\n",
    "\n",
    "usersRDD=sc.parallelize([user1,user2])\n",
    "placesRDD=sc.parallelize([place1,place2,place3])\n",
    "reviewsRDD=sc.parallelize([review1,review2,review3,review4])\n",
    "\n"
   ]
  },
  {
   "cell_type": "code",
   "execution_count": null,
   "metadata": {
    "ExecuteTime": {
     "end_time": "2018-07-12T19:38:29.479591Z",
     "start_time": "2018-07-12T18:38:26.937Z"
    }
   },
   "outputs": [],
   "source": [
    "# Select the  ratings for Fast Food (provide also Place name)\n",
    "\n",
    "#Filter Fast Food restaurants\n",
    "def filterClass(classification, criterion):\n",
    "    return criterion in classification.split(\",\")\n",
    "\n",
    "filteredPlacesRDD=placesRDD.map(lambda x: (x[0], (x[1], x[-1]) )).filter(lambda x: filterClass(x[-1][-1],\"Fast Food\"))\n",
    "\n",
    "filteredPlacesRDD.collect()\n",
    "\n",
    "\n"
   ]
  },
  {
   "cell_type": "code",
   "execution_count": null,
   "metadata": {
    "ExecuteTime": {
     "end_time": "2018-07-12T19:38:46.691107Z",
     "start_time": "2018-07-12T18:38:45.896Z"
    }
   },
   "outputs": [],
   "source": [
    "# Select ratings\n",
    "ratingsRDD=reviewsRDD.map(lambda x: (x.id_place, x.rating) )\n",
    "ratingsRDD.collect()\n"
   ]
  },
  {
   "cell_type": "code",
   "execution_count": null,
   "metadata": {
    "ExecuteTime": {
     "end_time": "2018-07-12T19:39:10.597701Z",
     "start_time": "2018-07-12T18:39:09.327Z"
    }
   },
   "outputs": [],
   "source": [
    "joinRDD=filteredPlacesRDD.join(ratingsRDD).map(lambda x: (x[-1][0][0],x[-1][-1]))\n",
    "joinRDD.collect()\n",
    "\n"
   ]
  },
  {
   "cell_type": "code",
   "execution_count": null,
   "metadata": {
    "ExecuteTime": {
     "end_time": "2018-07-12T19:39:26.374073Z",
     "start_time": "2018-07-12T18:39:24.377Z"
    }
   },
   "outputs": [],
   "source": [
    "from pyspark.sql import SQLContext\n",
    "from pyspark import sql\n",
    "sqlContext = SQLContext(sc)\n",
    "\n",
    "usersDF=usersRDD.toDF([\"id\", \"nickname\"])\n",
    "usersDF.show()\n",
    "\n"
   ]
  },
  {
   "cell_type": "code",
   "execution_count": null,
   "metadata": {
    "ExecuteTime": {
     "end_time": "2018-07-12T19:39:37.752619Z",
     "start_time": "2018-07-12T18:39:36.468Z"
    }
   },
   "outputs": [],
   "source": [
    "placesDF=placesRDD.toDF([\"id\", \"name\", \"description\", \"classification\"])\n",
    "placesDF.show()\n",
    "\n"
   ]
  },
  {
   "cell_type": "code",
   "execution_count": null,
   "metadata": {
    "ExecuteTime": {
     "end_time": "2018-07-12T19:39:52.124125Z",
     "start_time": "2018-07-12T18:39:51.250Z"
    }
   },
   "outputs": [],
   "source": [
    "reviewsDF=reviewsRDD.toDF([\"id\", \"id_user\", \"id_place\", \"text\", \"rating\"])\n",
    "reviewsDF.show()\n"
   ]
  },
  {
   "cell_type": "code",
   "execution_count": null,
   "metadata": {
    "ExecuteTime": {
     "end_time": "2018-07-12T19:40:09.666641Z",
     "start_time": "2018-07-12T18:40:09.030Z"
    }
   },
   "outputs": [],
   "source": [
    "from pyspark.sql.functions import udf\n",
    "from pyspark.sql.types import BooleanType\n",
    "\n",
    "filterClass_udf=udf(lambda x: filterClass(x, \"Fast Food\"),BooleanType())\n",
    "\n",
    "filteredPlacesDF = placesDF.filter(filterClass_udf(placesDF.classification))\n",
    "\n",
    "\n",
    "filteredPlacesDF.show()\n"
   ]
  },
  {
   "cell_type": "code",
   "execution_count": null,
   "metadata": {
    "ExecuteTime": {
     "end_time": "2018-07-12T19:40:45.128540Z",
     "start_time": "2018-07-12T18:40:39.778Z"
    }
   },
   "outputs": [],
   "source": [
    "filteredPlacesDF.join(reviewsDF,reviewsDF.id_place==filteredPlacesDF.id).\\\n",
    "select(filteredPlacesDF.name,reviewsDF.rating).\\\n",
    "show()"
   ]
  },
  {
   "cell_type": "code",
   "execution_count": null,
   "metadata": {},
   "outputs": [],
   "source": []
  }
 ],
 "metadata": {
  "kernelspec": {
   "display_name": "Python 3",
   "language": "python",
   "name": "python3"
  },
  "language_info": {
   "codemirror_mode": {
    "name": "ipython",
    "version": 3
   },
   "file_extension": ".py",
   "mimetype": "text/x-python",
   "name": "python",
   "nbconvert_exporter": "python",
   "pygments_lexer": "ipython3",
   "version": "3.6.3"
  }
 },
 "nbformat": 4,
 "nbformat_minor": 2
}
