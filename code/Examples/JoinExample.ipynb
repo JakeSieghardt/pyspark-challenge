{
 "cells": [
  {
   "cell_type": "code",
   "execution_count": null,
   "metadata": {
    "ExecuteTime": {
     "end_time": "2018-07-12T13:11:39.661296Z",
     "start_time": "2018-07-12T12:11:38.926Z"
    }
   },
   "outputs": [],
   "source": [
    "import collections\n",
    "Rel_A=collections.namedtuple('Rel_A', 'k a1 a2')\n",
    "Rel_B=collections.namedtuple('Rel_B', 'k b1 b2')\n",
    "\n",
    "\n",
    "rel_a1=Rel_A(\"k1\",1,2)\n",
    "rel_a2=Rel_A(\"k2\",3,4)\n",
    "rel_a3=Rel_A(\"k3\",5,6)\n",
    "rel_b1=Rel_B(\"k1\",7,8)\n",
    "rel_b2=Rel_B(\"k2\",9,10)\n",
    "rel_b3=Rel_B(\"k3\",11,12)\n",
    "\n",
    "\n",
    "\n",
    "\n"
   ]
  },
  {
   "cell_type": "code",
   "execution_count": null,
   "metadata": {
    "ExecuteTime": {
     "end_time": "2018-07-12T13:11:43.731711Z",
     "start_time": "2018-07-12T12:11:41.485Z"
    }
   },
   "outputs": [],
   "source": [
    "from pyspark import SparkContext\n",
    "sc = SparkContext.getOrCreate()\n",
    "\n",
    "rel_a_rdd=sc.parallelize([rel_a1,rel_a2,rel_a3])\n",
    "rel_b_rdd=sc.parallelize([rel_b1,rel_b2,rel_b3])\n",
    "\n",
    "\n",
    "\n",
    "rel_a_rdd.collect()\n",
    "\n",
    "\n",
    "\n",
    "\n"
   ]
  },
  {
   "cell_type": "code",
   "execution_count": null,
   "metadata": {
    "ExecuteTime": {
     "end_time": "2018-07-12T13:11:45.828578Z",
     "start_time": "2018-07-12T12:11:44.951Z"
    }
   },
   "outputs": [],
   "source": [
    "rel_b_rdd.collect()\n",
    "\n",
    "\n"
   ]
  },
  {
   "cell_type": "code",
   "execution_count": null,
   "metadata": {
    "ExecuteTime": {
     "end_time": "2018-07-12T13:12:28.123419Z",
     "start_time": "2018-07-12T12:12:25.985Z"
    }
   },
   "outputs": [],
   "source": [
    "\n",
    "rel_c_rdd=rel_a_rdd.join(rel_b_rdd)\n",
    "\n",
    "\n",
    "\n",
    "\n",
    "rel_c_rdd.collect()\n",
    "\n"
   ]
  },
  {
   "cell_type": "code",
   "execution_count": null,
   "metadata": {
    "ExecuteTime": {
     "end_time": "2018-07-12T13:12:45.732945Z",
     "start_time": "2018-07-12T12:12:44.240Z"
    }
   },
   "outputs": [],
   "source": [
    "\n",
    "rel_join_rdd=rel_a_rdd.map(lambda x: (x.k, (x.a1,x.a2))).\\\n",
    "                       join(rel_b_rdd.map(lambda x: (x.k,(x.b1,x.b2))))\n",
    "\n",
    "\n",
    "\n",
    "rel_join_rdd.collect()\n",
    "\n",
    "\n"
   ]
  },
  {
   "cell_type": "code",
   "execution_count": null,
   "metadata": {
    "ExecuteTime": {
     "end_time": "2018-07-12T13:12:58.923095Z",
     "start_time": "2018-07-12T12:12:57.852Z"
    }
   },
   "outputs": [],
   "source": [
    "t1=rel_join_rdd.take(1)"
   ]
  },
  {
   "cell_type": "code",
   "execution_count": null,
   "metadata": {
    "ExecuteTime": {
     "end_time": "2018-07-12T13:13:07.959892Z",
     "start_time": "2018-07-12T12:13:07.929Z"
    }
   },
   "outputs": [],
   "source": [
    "type(t1)"
   ]
  },
  {
   "cell_type": "code",
   "execution_count": null,
   "metadata": {
    "ExecuteTime": {
     "end_time": "2018-07-12T13:13:18.991364Z",
     "start_time": "2018-07-12T12:13:18.049Z"
    }
   },
   "outputs": [],
   "source": [
    "t1"
   ]
  },
  {
   "cell_type": "code",
   "execution_count": null,
   "metadata": {
    "ExecuteTime": {
     "end_time": "2018-07-12T13:13:28.997971Z",
     "start_time": "2018-07-12T12:13:28.758Z"
    }
   },
   "outputs": [],
   "source": [
    "t1[0]"
   ]
  },
  {
   "cell_type": "code",
   "execution_count": null,
   "metadata": {
    "ExecuteTime": {
     "end_time": "2018-07-12T13:13:34.023412Z",
     "start_time": "2018-07-12T12:13:33.799Z"
    }
   },
   "outputs": [],
   "source": [
    "t1[0][1]"
   ]
  },
  {
   "cell_type": "code",
   "execution_count": null,
   "metadata": {
    "ExecuteTime": {
     "end_time": "2018-07-12T13:13:44.040521Z",
     "start_time": "2018-07-12T12:13:43.069Z"
    }
   },
   "outputs": [],
   "source": [
    "t1[0][1][0][1]"
   ]
  }
 ],
 "metadata": {
  "kernelspec": {
   "display_name": "Python 3",
   "language": "python",
   "name": "python3"
  },
  "language_info": {
   "codemirror_mode": {
    "name": "ipython",
    "version": 3
   },
   "file_extension": ".py",
   "mimetype": "text/x-python",
   "name": "python",
   "nbconvert_exporter": "python",
   "pygments_lexer": "ipython3",
   "version": "3.6.3"
  }
 },
 "nbformat": 4,
 "nbformat_minor": 2
}
