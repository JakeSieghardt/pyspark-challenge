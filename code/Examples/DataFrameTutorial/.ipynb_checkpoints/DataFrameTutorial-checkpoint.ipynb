{
 "cells": [
  {
   "cell_type": "code",
   "execution_count": null,
   "metadata": {
    "ExecuteTime": {
     "end_time": "2018-07-12T14:18:48.680143Z",
     "start_time": "2018-07-12T13:18:47.905Z"
    }
   },
   "outputs": [],
   "source": [
    "from pyspark.sql import SQLContext\n",
    "from pyspark.sql.types import *\n",
    "from pyspark import SparkContext\n",
    "\n",
    "sc = SparkContext.getOrCreate()\n",
    "\n",
    "sqlContext = SQLContext(sc)\n",
    "\n",
    "\n",
    "df_data_1 = sqlContext.read.format('com.databricks.spark.csv').\\\n",
    "options(header='true', inferschema='true').load('2015-summary.csv')\n",
    "\n",
    "df_data_1.printSchema()\n",
    "df_data_1.take(5)\n",
    "\n",
    "\n",
    "\n"
   ]
  },
  {
   "cell_type": "code",
   "execution_count": null,
   "metadata": {
    "ExecuteTime": {
     "end_time": "2018-07-12T14:19:46.833376Z",
     "start_time": "2018-07-12T13:19:46.071Z"
    }
   },
   "outputs": [],
   "source": [
    "us_from_flights=df_data_1.filter(\"ORIGIN_COUNTRY_NAME =='United States'\")\n",
    "\n",
    "\n",
    "\n",
    "\n",
    "type(us_from_flights)\n",
    "\n"
   ]
  },
  {
   "cell_type": "code",
   "execution_count": null,
   "metadata": {
    "ExecuteTime": {
     "end_time": "2018-07-12T14:20:07.270578Z",
     "start_time": "2018-07-12T13:20:06.923Z"
    }
   },
   "outputs": [],
   "source": [
    "us_from_flights=df_data_1[df_data_1.ORIGIN_COUNTRY_NAME \n",
    "                          =='United States']\n",
    "us_from_flights.show()\n",
    "\n",
    "\n",
    "\n"
   ]
  },
  {
   "cell_type": "code",
   "execution_count": null,
   "metadata": {
    "ExecuteTime": {
     "end_time": "2018-07-12T15:18:36.982770Z",
     "start_time": "2018-07-12T14:18:35.671Z"
    }
   },
   "outputs": [],
   "source": [
    "from pyspark.sql.functions import max \n",
    "df_data_1.select(max(\"count\")).take(1) \n",
    "\n",
    "\n",
    "\n",
    "\n",
    "\n",
    "\n"
   ]
  },
  {
   "cell_type": "code",
   "execution_count": null,
   "metadata": {
    "ExecuteTime": {
     "end_time": "2018-07-12T15:19:03.307289Z",
     "start_time": "2018-07-12T14:19:02.403Z"
    }
   },
   "outputs": [],
   "source": [
    "#from pyspark.sql.functions import first\n",
    "us_from_flights=df_data_1.filter(\"ORIGIN_COUNTRY_NAME =='United States'\").\\\n",
    "select(\"DEST_COUNTRY_NAME\", \"COUNT\")\n",
    "\n",
    "\n",
    "\n",
    "\n",
    "us_from_flights.show()\n"
   ]
  },
  {
   "cell_type": "code",
   "execution_count": null,
   "metadata": {
    "ExecuteTime": {
     "end_time": "2018-07-12T15:19:34.194579Z",
     "start_time": "2018-07-12T14:19:26.475Z"
    }
   },
   "outputs": [],
   "source": [
    "from pyspark.sql.types import DoubleType\n",
    "from pyspark.sql.functions import desc\n",
    "\n",
    "df_flights2015=df_data_1.withColumn(\"COUNT\", df_data_1[\"COUNT\"].cast(\"double\"))\n",
    "df_flights2015.printSchema()\n",
    "\n",
    "df_flights2015.groupBy(\"DEST_COUNTRY_NAME\").sum(\"count\").\\\n",
    "withColumnRenamed(\"sum(count)\", \"destination_total\").\\\n",
    "sort(desc(\"destination_total\")).limit(5).collect() \n",
    "\n",
    "\n",
    "\n"
   ]
  },
  {
   "cell_type": "code",
   "execution_count": null,
   "metadata": {
    "ExecuteTime": {
     "end_time": "2018-07-12T15:20:48.691254Z",
     "start_time": "2018-07-12T14:20:47.442Z"
    }
   },
   "outputs": [],
   "source": [
    "df_data_2 = sqlContext.read.format('com.databricks.spark.csv').\\\n",
    "options(header='true', inferschema='true').load('2014-summary.csv')\n",
    "\n",
    "df_data_2.take(5)\n",
    "\n",
    "\n"
   ]
  },
  {
   "cell_type": "code",
   "execution_count": null,
   "metadata": {
    "ExecuteTime": {
     "end_time": "2018-07-12T15:21:08.882118Z",
     "start_time": "2018-07-12T14:21:07.941Z"
    }
   },
   "outputs": [],
   "source": [
    "df_flights2014=df_data_2.withColumn(\"COUNT\", df_data_2[\"COUNT\"].cast(\"double\")).\\\n",
    "withColumnRenamed(\"COUNT\",\"COUNT2014\")\n",
    "\n",
    "df_flights2014.take(5)\n",
    "\n"
   ]
  },
  {
   "cell_type": "code",
   "execution_count": null,
   "metadata": {
    "ExecuteTime": {
     "end_time": "2018-07-12T15:21:57.609308Z",
     "start_time": "2018-07-12T14:21:56.911Z"
    }
   },
   "outputs": [],
   "source": [
    "df_join=df_flights2014.join(df_flights2015,\\\n",
    "(df_flights2014.DEST_COUNTRY_NAME==df_flights2015.DEST_COUNTRY_NAME)\\\n",
    "&(df_flights2014.ORIGIN_COUNTRY_NAME==df_flights2015.ORIGIN_COUNTRY_NAME)).\\\n",
    "select(df_flights2014.DEST_COUNTRY_NAME,df_flights2014.ORIGIN_COUNTRY_NAME,\"COUNT2014\",\"COUNT\")\n",
    "\n",
    "\n",
    "\n",
    "df_join.take(5)\n",
    "\n"
   ]
  },
  {
   "cell_type": "code",
   "execution_count": null,
   "metadata": {
    "ExecuteTime": {
     "end_time": "2018-07-12T15:22:07.949020Z",
     "start_time": "2018-07-12T14:22:07.330Z"
    }
   },
   "outputs": [],
   "source": [
    "df_join.head()\n",
    "\n"
   ]
  },
  {
   "cell_type": "code",
   "execution_count": null,
   "metadata": {
    "ExecuteTime": {
     "end_time": "2018-07-12T15:23:44.223568Z",
     "start_time": "2018-07-12T14:23:43.190Z"
    }
   },
   "outputs": [],
   "source": [
    "from pyspark.sql.functions import udf\n",
    "compute_diff=udf(lambda x,y: y-x,DoubleType())\n",
    "\n",
    "\n",
    "\n",
    "df_result=df_join.select(df_join.DEST_COUNTRY_NAME,\\\n",
    "                         df_join.ORIGIN_COUNTRY_NAME,\\\n",
    "                         compute_diff(df_join.COUNT2014, df_join.COUNT)).\\\n",
    "                         withColumnRenamed(\"<lambda>(COUNT2014, COUNT)\",\"diff\")\n",
    "\n",
    "df_result.take(5)\n",
    "\n"
   ]
  },
  {
   "cell_type": "code",
   "execution_count": null,
   "metadata": {
    "ExecuteTime": {
     "end_time": "2018-07-12T15:23:45.517353Z",
     "start_time": "2018-07-12T14:23:45.192Z"
    }
   },
   "outputs": [],
   "source": [
    "df_result=df_join.select(df_join.DEST_COUNTRY_NAME,\\\n",
    "                         df_join.ORIGIN_COUNTRY_NAME,\\\n",
    "                         df_join.COUNT-df_join.COUNT2014)\n",
    "df_result.take(5)\n"
   ]
  },
  {
   "cell_type": "code",
   "execution_count": null,
   "metadata": {
    "ExecuteTime": {
     "end_time": "2018-07-12T15:24:02.217625Z",
     "start_time": "2018-07-12T14:24:01.055Z"
    }
   },
   "outputs": [],
   "source": [
    "df_outgoingflights=df_flights2015.groupBy(\"ORIGIN_COUNTRY_NAME\").\\\n",
    "sum(\"COUNT\").withColumnRenamed(\"sum(COUNT)\",\"deptFlights\").limit(5)\n",
    "\n",
    "\n",
    "\n",
    "df_outgoingflights.take(5)"
   ]
  },
  {
   "cell_type": "code",
   "execution_count": null,
   "metadata": {},
   "outputs": [],
   "source": []
  }
 ],
 "metadata": {
  "kernelspec": {
   "display_name": "Python 3",
   "language": "python",
   "name": "python3"
  },
  "language_info": {
   "codemirror_mode": {
    "name": "ipython",
    "version": 3
   },
   "file_extension": ".py",
   "mimetype": "text/x-python",
   "name": "python",
   "nbconvert_exporter": "python",
   "pygments_lexer": "ipython3",
   "version": "3.6.3"
  }
 },
 "nbformat": 4,
 "nbformat_minor": 2
}
