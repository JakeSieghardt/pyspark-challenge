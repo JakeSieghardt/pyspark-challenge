{
 "cells": [
  {
   "cell_type": "code",
   "execution_count": null,
   "metadata": {
    "ExecuteTime": {
     "end_time": "2018-07-12T15:58:27.605021Z",
     "start_time": "2018-07-12T14:58:26.692Z"
    }
   },
   "outputs": [],
   "source": [
    "from pyspark.sql import SQLContext\n",
    "from pyspark.sql.types import *\n",
    "from pyspark import SparkContext\n",
    "\n",
    "sc = SparkContext.getOrCreate()\n",
    "sqlContext = SQLContext(sc)\n",
    "\n",
    "df_data_1 = sqlContext.read.format('com.databricks.spark.csv').\\\n",
    "options(header='true', inferschema='true').load('realestate.csv')\n",
    "\n",
    "\n",
    "df_data_1.printSchema()\n",
    "\n",
    "\n",
    "\n"
   ]
  },
  {
   "cell_type": "code",
   "execution_count": null,
   "metadata": {
    "ExecuteTime": {
     "end_time": "2018-07-12T15:58:28.966651Z",
     "start_time": "2018-07-12T14:58:27.547Z"
    }
   },
   "outputs": [],
   "source": [
    "df_data_1.describe('beds','baths','sq__ft').show()"
   ]
  },
  {
   "cell_type": "code",
   "execution_count": null,
   "metadata": {
    "ExecuteTime": {
     "end_time": "2018-07-12T15:58:34.439367Z",
     "start_time": "2018-07-12T14:58:33.365Z"
    }
   },
   "outputs": [],
   "source": [
    "#Filter rows with probably wrong data (number of baths/beds/sqft=0)\n",
    "filtered_df=df_data_1.where(\"baths > 0 and beds > 0 and sq__ft >0 \")\n",
    "filtered_df.cache()\n",
    "filtered_df.take(5)\n"
   ]
  },
  {
   "cell_type": "code",
   "execution_count": null,
   "metadata": {},
   "outputs": [],
   "source": [
    "#Apply type\n",
    "from pyspark.sql.types import DoubleType\n",
    "\n",
    "filtered_typed_df=filtered_df.withColumn(\"beds\", filtered_df[\"beds\"].cast(\"double\")).\\\n",
    "                              withColumn(\"baths\", filtered_df[\"baths\"].cast(\"double\")).\\\n",
    "                              withColumn(\"sq__ft\", filtered_df[\"sq__ft\"].cast(\"double\")).\\\n",
    "                              withColumn(\"price\", filtered_df[\"price\"].cast(\"double\"))\n",
    "\n",
    "filtered_typed_df.printSchema()\n",
    "filtered_typed_df.show(5)"
   ]
  },
  {
   "cell_type": "code",
   "execution_count": null,
   "metadata": {
    "ExecuteTime": {
     "end_time": "2018-07-12T15:59:00.046123Z",
     "start_time": "2018-07-12T14:58:58.997Z"
    }
   },
   "outputs": [],
   "source": [
    "# Get some statistics on the relevant features and label (price)\n",
    "\n",
    "filtered_typed_df.describe('beds','baths','sq__ft','price').show()\n",
    "\n",
    "\n",
    "\n"
   ]
  },
  {
   "cell_type": "code",
   "execution_count": null,
   "metadata": {
    "ExecuteTime": {
     "end_time": "2018-07-12T16:00:10.125858Z",
     "start_time": "2018-07-12T15:00:01.266Z"
    }
   },
   "outputs": [],
   "source": [
    "# Select all apartment in EL DORADO HILLS and determine the one with maximum SQFT\n",
    "\n",
    "el_dorado_aptm_df=filtered_typed_df.filter(filtered_df[\"city\"]==\"EL DORADO HILLS\")\n",
    "el_dorado_aptm_df.cache()\n",
    "el_dorado_aptm_df.show(5)\n"
   ]
  },
  {
   "cell_type": "code",
   "execution_count": null,
   "metadata": {},
   "outputs": [],
   "source": [
    "\n",
    "max_sqft= el_dorado_aptm_df.groupBy('city').max('sq__ft').collect()[0][1]\n",
    "\n",
    "print (max_sqft) \n"
   ]
  },
  {
   "cell_type": "code",
   "execution_count": null,
   "metadata": {},
   "outputs": [],
   "source": [
    "el_dorado_aptm_df.filter(el_dorado_aptm_df.sq__ft==max_sqft).collect()"
   ]
  },
  {
   "cell_type": "code",
   "execution_count": null,
   "metadata": {
    "ExecuteTime": {
     "end_time": "2018-07-12T16:12:29.808768Z",
     "start_time": "2018-07-12T15:12:28.596Z"
    }
   },
   "outputs": [],
   "source": [
    "#select and scale the relevant features \n",
    "from pyspark.ml.feature import VectorAssembler\n",
    "\n",
    "assembler1 = VectorAssembler(\n",
    "    inputCols=['beds','baths','sq__ft'],\n",
    "    outputCol='features')\n",
    "\n",
    "\n",
    "filtered_features_df = assembler1.transform(filtered_typed_df)\n",
    "\n",
    "\n",
    "filtered_features_df.printSchema()\n",
    "filtered_features_df.show(5)\n",
    "               \n",
    "\n"
   ]
  },
  {
   "cell_type": "code",
   "execution_count": null,
   "metadata": {
    "ExecuteTime": {
     "end_time": "2018-07-12T16:31:25.440448Z",
     "start_time": "2018-07-12T15:31:24.128Z"
    }
   },
   "outputs": [],
   "source": [
    "from pyspark.ml.feature import MinMaxScaler\n",
    "#from pyspark.ml.linalg import Vectors\n",
    "\n",
    "\n",
    "scaler1 = MinMaxScaler(inputCol=\"features\", outputCol=\"scaled_features\")\n",
    "\n",
    "# Compute summary statistics and generate MinMaxScalerModel\n",
    "scaler_model1 = scaler1.fit(filtered_features_df)\n",
    "\n",
    "# rescale each feature to range [min, max].\n",
    "scaled_data_df = scaler_model1.transform(filtered_features_df)\n",
    "#print(\"Features scaled to range: [%f, %f]\" % (scaler1.getMin(), scaler1.getMax()))\n",
    "print(scaled_data_df.select(\"features\", \"scaled_features\").first())\n",
    "\n",
    "scaled_data_df.printSchema()\n",
    "\n"
   ]
  },
  {
   "cell_type": "code",
   "execution_count": null,
   "metadata": {
    "ExecuteTime": {
     "end_time": "2018-07-12T16:31:29.697690Z",
     "start_time": "2018-07-12T15:31:28.729Z"
    }
   },
   "outputs": [],
   "source": [
    "training_data_df, testing_data_df = scaled_data_df.randomSplit([.8,.2],seed=1234)\n",
    "\n",
    "print(type(training_data_df))\n",
    "training_data_df.take(5)\n",
    "\n",
    "\n"
   ]
  },
  {
   "cell_type": "code",
   "execution_count": null,
   "metadata": {
    "ExecuteTime": {
     "end_time": "2018-07-12T16:31:32.008699Z",
     "start_time": "2018-07-12T15:31:31.316Z"
    }
   },
   "outputs": [],
   "source": [
    "testing_data_df.take(5)\n",
    "\n",
    "\n"
   ]
  },
  {
   "cell_type": "code",
   "execution_count": null,
   "metadata": {
    "ExecuteTime": {
     "end_time": "2018-07-12T16:31:35.632760Z",
     "start_time": "2018-07-12T15:31:33.228Z"
    }
   },
   "outputs": [],
   "source": [
    "from  pyspark.ml.regression import LinearRegression\n",
    "\n",
    "lr = LinearRegression(featuresCol = 'scaled_features', labelCol = 'price')\n",
    "#lr = LinearRegression(featuresCol = 'features', labelCol = 'price')\n",
    "\n",
    "# Fit the model\n",
    "lr_model = lr.fit(training_data_df)\n",
    "\n",
    "\n",
    "# Print the coefficients and intercept for linear regression\n",
    "print(\"Coefficients: %s\" % str(lr_model.coefficients))\n",
    "print(\"Intercept: %s\" % str(lr_model.intercept))\n",
    "\n",
    "\n"
   ]
  },
  {
   "cell_type": "code",
   "execution_count": null,
   "metadata": {
    "ExecuteTime": {
     "end_time": "2018-07-12T16:31:37.898101Z",
     "start_time": "2018-07-12T15:31:36.840Z"
    }
   },
   "outputs": [],
   "source": [
    "# Summarize the model over the training set and print out some metrics\n",
    "training_summary = lr_model.summary\n",
    "print(\"numIterations: %d\" % training_summary.totalIterations)\n",
    "print(\"objectiveHistory: %s\" % str(training_summary.objectiveHistory))\n",
    "training_summary.residuals.show()\n",
    "print(\"RMSE: %f\" % training_summary.rootMeanSquaredError)\n",
    "print(\"r2: %f\" % training_summary.r2)\n",
    "\n"
   ]
  },
  {
   "cell_type": "code",
   "execution_count": null,
   "metadata": {
    "ExecuteTime": {
     "end_time": "2018-07-12T16:31:42.985233Z",
     "start_time": "2018-07-12T15:31:40.979Z"
    }
   },
   "outputs": [],
   "source": [
    "testing_summary = lr_model.evaluate(testing_data_df)\n",
    "testing_summary.predictions.select('price','baths','beds','sq__ft','prediction').show(10)\n",
    "print(\"RMSE: %f\" % testing_summary.rootMeanSquaredError)\n",
    "print(\"r2: %f\" % testing_summary.r2)"
   ]
  },
  {
   "cell_type": "code",
   "execution_count": null,
   "metadata": {},
   "outputs": [],
   "source": []
  }
 ],
 "metadata": {
  "kernelspec": {
   "display_name": "Python 3",
   "language": "python",
   "name": "python3"
  },
  "language_info": {
   "codemirror_mode": {
    "name": "ipython",
    "version": 3
   },
   "file_extension": ".py",
   "mimetype": "text/x-python",
   "name": "python",
   "nbconvert_exporter": "python",
   "pygments_lexer": "ipython3",
   "version": "3.6.3"
  }
 },
 "nbformat": 4,
 "nbformat_minor": 2
}
