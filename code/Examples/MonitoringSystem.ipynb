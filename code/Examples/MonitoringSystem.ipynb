{
 "cells": [
  {
   "cell_type": "code",
   "execution_count": null,
   "metadata": {
    "ExecuteTime": {
     "end_time": "2018-07-12T13:53:14.953897Z",
     "start_time": "2018-07-12T12:52:43.857Z"
    }
   },
   "outputs": [],
   "source": [
    "import collections\n",
    "from operator import add\n",
    "from pyspark import SparkContext\n",
    "#from operator import add\n",
    "\n",
    "sc = SparkContext.getOrCreate()\n",
    "\n",
    "System = collections.namedtuple(\"System\", \"id location repair_cost downtime_cost\")\n",
    "\n",
    "EventSystem1 = collections.namedtuple(\"EventSystem1\", \"id day month year event_type event_value reference_system_id\")\n",
    "# as EventSystem1 but date is a single string DD:MM:YYYY\n",
    "EventSystem2 = collections.namedtuple(\"EventSystem2\", \"id date event_type event_value reference_system_id\")\n",
    "\n",
    "\n",
    "event1=EventSystem1(1,31, 8, 2016, \"Entrance alarm\", 0.0, 1)\n",
    "event2=EventSystem1(2,31, 8, 2016, \"Window alarm\", 0.0, 1)\n",
    "event3=EventSystem1(3,31, 8, 2016, \"Movement detection\", 0.0, 1) \n",
    "event4=EventSystem2(4,\"31:8:2016\", \"Temperature sample\", 28.0, 2) \n",
    "event5=EventSystem2(5,\"31:8:2016\", \"Temperature sample\", 27.2, 2) \n",
    "event6=EventSystem2(6,\"31:8:2016\", \"Temperature sample\", 27.3, 2) \n",
    "event7=EventSystem1(3,31, 8, 2016, \"Fire alarm\", 0.0, 1)\n",
    "EventsSys1RDD=sc.parallelize([event1,event2,event3,event7]) \n",
    "EventsSys2RDD=sc.parallelize([event4,event5,event6])\n",
    "System1=System(1,\"GroundFloor\",100.0, 1.3) \n",
    "System2=System(2,\"BedRoom\",11.0, 0.0)\n",
    "SystemsRDD=sc.parallelize([System1,System2])\n",
    "\n"
   ]
  },
  {
   "cell_type": "code",
   "execution_count": null,
   "metadata": {
    "ExecuteTime": {
     "end_time": "2018-07-12T13:53:38.371974Z",
     "start_time": "2018-07-12T12:53:35.105Z"
    }
   },
   "outputs": [],
   "source": [
    "\n",
    "# Convert EventSystem1 to EventSystem2 format  \n",
    "def eventsConversion(e1):\n",
    "    return EventSystem2(e1.id,str(e1.day)+\":\"+str(e1.month)+\":\"+str(e1.year), e1.event_type, e1.event_value, e1.reference_system_id)\n",
    "\n",
    "\n",
    "\n",
    "EventsSystem1_2RDD = EventsSys1RDD.map(lambda x : eventsConversion(x))\n",
    "\n",
    "\n",
    "EventsSystem1_2RDD.collect()\n"
   ]
  },
  {
   "cell_type": "code",
   "execution_count": null,
   "metadata": {
    "ExecuteTime": {
     "end_time": "2018-07-12T13:53:48.748319Z",
     "start_time": "2018-07-12T12:53:47.885Z"
    }
   },
   "outputs": [],
   "source": [
    "EventsRDD = EventsSystem1_2RDD.union(EventsSys2RDD)\n",
    "EventsRDD.collect()"
   ]
  },
  {
   "cell_type": "code",
   "execution_count": null,
   "metadata": {
    "ExecuteTime": {
     "end_time": "2018-07-12T13:54:09.144121Z",
     "start_time": "2018-07-12T12:54:08.010Z"
    }
   },
   "outputs": [],
   "source": [
    "#Count for each system  the number of temperature events (provide system id and location)\n",
    "# Identify temperature samples\n",
    "tempsRDD = EventsRDD.filter(lambda x : x.event_type == \"Temperature sample\")\n",
    "tempsRDD.collect()\n"
   ]
  },
  {
   "cell_type": "code",
   "execution_count": null,
   "metadata": {
    "ExecuteTime": {
     "end_time": "2018-07-12T13:54:34.031666Z",
     "start_time": "2018-07-12T12:54:32.859Z"
    }
   },
   "outputs": [],
   "source": [
    "#Count for each system the number of temperature events\n",
    "resultsRDD = tempsRDD.map(lambda x : (x.reference_system_id, 1)).reduceByKey(lambda x,y : x+y)\n",
    "\n",
    "resultsRDD.collect()\n",
    "\n"
   ]
  },
  {
   "cell_type": "code",
   "execution_count": null,
   "metadata": {
    "ExecuteTime": {
     "end_time": "2018-07-12T13:54:42.989038Z",
     "start_time": "2018-07-12T12:54:41.513Z"
    }
   },
   "outputs": [],
   "source": [
    "#Join to identify the location\n",
    "results_2RDD = SystemsRDD.map(lambda x : (x.id,x.location)).join(resultsRDD).map(lambda x : (x[0],x[1][0],x[1][1]))\n",
    "\n",
    "\n",
    "results_2RDD.collect()"
   ]
  }
 ],
 "metadata": {
  "kernelspec": {
   "display_name": "Python 3",
   "language": "python",
   "name": "python3"
  },
  "language_info": {
   "codemirror_mode": {
    "name": "ipython",
    "version": 3
   },
   "file_extension": ".py",
   "mimetype": "text/x-python",
   "name": "python",
   "nbconvert_exporter": "python",
   "pygments_lexer": "ipython3",
   "version": "3.6.3"
  }
 },
 "nbformat": 4,
 "nbformat_minor": 2
}
