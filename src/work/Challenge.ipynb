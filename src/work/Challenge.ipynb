{
 "cells": [
  {
   "cell_type": "markdown",
   "metadata": {},
   "source": [
    "# Technological Infrastructures for Data Science\n",
    "## Spark Challenge - Andrea Seveso 781856\n",
    "Let's start by importing libraries and dataset.\n",
    "Then we will check the schema"
   ]
  },
  {
   "cell_type": "code",
   "execution_count": 15,
   "metadata": {
    "scrolled": true
   },
   "outputs": [
    {
     "name": "stdout",
     "output_type": "stream",
     "text": [
      "root\n",
      " |-- F1: integer (nullable = true)\n",
      " |-- F2: integer (nullable = true)\n",
      " |-- F3: integer (nullable = true)\n",
      " |-- F4: string (nullable = true)\n",
      " |-- Rep: integer (nullable = true)\n",
      " |-- M_OF: integer (nullable = true)\n",
      " |-- M_TIME(s): string (nullable = true)\n",
      " |-- CBC_OF: integer (nullable = true)\n",
      " |-- CBC_TIME: string (nullable = true)\n",
      " |-- CBC_#FEASIBILITY CUTS: integer (nullable = true)\n",
      " |-- CBC_# PENALTY CUTS: integer (nullable = true)\n",
      " |-- _c11: string (nullable = true)\n",
      " |-- _c12: string (nullable = true)\n",
      " |-- _c13: string (nullable = true)\n",
      " |-- _c14: string (nullable = true)\n",
      " |-- _c15: string (nullable = true)\n",
      " |-- _c16: string (nullable = true)\n",
      " |-- _c17: string (nullable = true)\n",
      " |-- _c18: string (nullable = true)\n",
      "\n"
     ]
    }
   ],
   "source": [
    "# Import libs\n",
    "from pyspark import SparkContext\n",
    "from pyspark.sql import SQLContext\n",
    "from pyspark.sql.functions import udf\n",
    "from pyspark.sql.types import *\n",
    "\n",
    "# Create Spark context\n",
    "sc = SparkContext.getOrCreate()\n",
    "sqlContext = SQLContext(sc)\n",
    "\n",
    "# Load data frame\n",
    "df = sqlContext.read.format('com.databricks.spark.csv').\\\n",
    "options(header='true', inferschema='true', sep = \";\").load('../data/risultati_totali.csv')\n",
    "\n",
    "# Print df schema\n",
    "df.printSchema()"
   ]
  },
  {
   "cell_type": "markdown",
   "metadata": {},
   "source": [
    "## Cleaning the schema\n",
    "There are some problems with the data frame:\n",
    "1. Some columns have special characters: #, (). Let's remove these.\n",
    "2. The columns M_TIME and CBC_TIME are cast as string, but they should be as double. Also, the decimal delimiter is comma instead of dot.\n",
    "3. There are some useless empty columns in the end (all NAs). They should be removed aswell."
   ]
  },
  {
   "cell_type": "code",
   "execution_count": 16,
   "metadata": {},
   "outputs": [
    {
     "name": "stdout",
     "output_type": "stream",
     "text": [
      "root\n",
      " |-- F1: integer (nullable = true)\n",
      " |-- F2: integer (nullable = true)\n",
      " |-- F3: integer (nullable = true)\n",
      " |-- F4: string (nullable = true)\n",
      " |-- Rep: integer (nullable = true)\n",
      " |-- M_OF: integer (nullable = true)\n",
      " |-- M_TIME: float (nullable = true)\n",
      " |-- CBC_OF: integer (nullable = true)\n",
      " |-- CBC_TIME: float (nullable = true)\n",
      " |-- CBC_FEASIBILITY_CUTS: integer (nullable = true)\n",
      " |-- CBC_PENALTY_CUTS: integer (nullable = true)\n",
      "\n",
      "+---+---+---+---+---+----+------+------+--------+--------------------+----------------+\n",
      "| F1| F2| F3| F4|Rep|M_OF|M_TIME|CBC_OF|CBC_TIME|CBC_FEASIBILITY_CUTS|CBC_PENALTY_CUTS|\n",
      "+---+---+---+---+---+----+------+------+--------+--------------------+----------------+\n",
      "|  3|400|  9|  A|  1| 361| 0.266|   361|   0.462|                   0|               0|\n",
      "|  3|400|  9|  A|  2| 306| 0.511|   306|   0.106|                   0|               0|\n",
      "|  3|400|  9|  A|  3| 271| 1.052|   271|   1.646|                   0|               4|\n",
      "|  3|400|  6|  A|  4| 263| 0.556|   263|   0.179|                   0|               1|\n",
      "|  3|400|  9|  A|  5| 307| 4.706|   307|   4.633|                   0|               4|\n",
      "|  3|400|  7|  A|  6| 270| 1.139|   270|   0.057|                   0|               0|\n",
      "|  3|400|  8|  A|  7| 251| 0.726|   251|   0.188|                   0|               1|\n",
      "|  3|400|  7|  A|  8| 292|   1.5|   292|   0.023|                   0|               0|\n",
      "|  3|400| 10|  A|  9| 277| 0.846|   277|   0.197|                   0|               0|\n",
      "|  3|400|  8|  A| 10| 249| 1.141|   249|   0.551|                   0|               0|\n",
      "|  3|500|  8|  A|  1| 293| 0.137|   293|   0.023|                   0|               0|\n",
      "|  3|500|  8|  A|  2| 314| 3.926|   314|   2.367|                   0|               1|\n",
      "|  3|500|  9|  A|  3| 291| 0.995|   291|   0.214|                   0|               0|\n",
      "|  3|500| 10|  A|  4| 389|  3.67|   389|   2.567|                   0|               1|\n",
      "|  3|500|  9|  A|  5| 227| 1.296|   227|   2.066|                   0|               1|\n",
      "|  3|500|  9|  A|  6| 258| 5.079|   258|   1.941|                   0|               2|\n",
      "|  3|500| 10|  A|  7| 345| 1.147|   345|    0.38|                   0|               0|\n",
      "|  3|500| 10|  A|  8| 326|  2.29|   326|   0.404|                   0|               1|\n",
      "|  3|500| 10|  A|  9| 401| 8.107|   401|   4.194|                   0|               1|\n",
      "|  3|500|  8|  A| 10| 275| 0.777|   275|   0.026|                   0|               0|\n",
      "+---+---+---+---+---+----+------+------+--------+--------------------+----------------+\n",
      "only showing top 20 rows\n",
      "\n"
     ]
    }
   ],
   "source": [
    "# User defined function to replace commas and cast as float\n",
    "commaToDot = udf(lambda x : float(str(x).replace(',', '.')), FloatType())\n",
    "\n",
    "# Rename columns with special characters\n",
    "df = df.withColumnRenamed(\"M_TIME(s)\", \"M_TIME\").\\\n",
    "    withColumnRenamed(\"CBC_# PENALTY CUTS\", \"CBC_PENALTY_CUTS\").\\\n",
    "    withColumnRenamed(\"CBC_#FEASIBILITY CUTS\", \"CBC_FEASIBILITY_CUTS\")\n",
    "\n",
    "# Cast as float columns and keep only useful columns\n",
    "df = df.withColumn('CBC_TIME', commaToDot(df.CBC_TIME)).\\\n",
    "    withColumn('M_TIME', commaToDot(df.M_TIME)).\\\n",
    "    select(\"F1\", \"F2\", \"F3\", \"F4\", \"Rep\", \"M_OF\", \"M_TIME\", \"CBC_OF\", \"CBC_TIME\", \"CBC_FEASIBILITY_CUTS\", \"CBC_PENALTY_CUTS\")\n",
    "\n",
    "# Let's check if everything is ok now\n",
    "df.printSchema()\n",
    "df.show()"
   ]
  },
  {
   "cell_type": "markdown",
   "metadata": {},
   "source": [
    "# Descriptive statistics\n",
    "Let's check some descriptive statistics about the features and algorithm results."
   ]
  },
  {
   "cell_type": "code",
   "execution_count": 33,
   "metadata": {},
   "outputs": [
    {
     "name": "stdout",
     "output_type": "stream",
     "text": [
      "+-------+------------------+-----------------+------------------+----+\n",
      "|summary|                F1|               F2|                F3|  F4|\n",
      "+-------+------------------+-----------------+------------------+----+\n",
      "|  count|               360|              360|               360| 360|\n",
      "|   mean|               6.0|            500.0| 9.155555555555555|null|\n",
      "| stddev|2.9480176050089826|81.76329719869562|1.6295400592512068|null|\n",
      "|    min|                 3|              400|                 6|   A|\n",
      "|    max|                10|              600|                14|   D|\n",
      "+-------+------------------+-----------------+------------------+----+\n",
      "\n"
     ]
    }
   ],
   "source": [
    "# Descriptive stats for features\n",
    "df.describe('F1','F2','F3', 'F4').show()"
   ]
  },
  {
   "cell_type": "code",
   "execution_count": 32,
   "metadata": {},
   "outputs": [
    {
     "name": "stdout",
     "output_type": "stream",
     "text": [
      "+-------+----------------+------------------+------------------+------------------+--------------------+-----------------+\n",
      "|summary|            M_OF|            M_TIME|            CBC_OF|          CBC_TIME|CBC_FEASIBILITY_CUTS| CBC_PENALTY_CUTS|\n",
      "+-------+----------------+------------------+------------------+------------------+--------------------+-----------------+\n",
      "|  count|             360|               360|               360|               360|                 360|              360|\n",
      "|   mean|         271.575|105.12110819009443|270.85833333333335| 87.07493861282968|0.019444444444444445|4.852777777777778|\n",
      "| stddev|98.3542284190714|494.45800971272115| 98.25782943139056|382.65763169719463| 0.15713210460545812| 10.1040819162897|\n",
      "|    min|              82|              0.08|                82|              0.01|                   0|                0|\n",
      "|    max|             658|            3600.0|               658|            3600.0|                   2|               73|\n",
      "+-------+----------------+------------------+------------------+------------------+--------------------+-----------------+\n",
      "\n"
     ]
    }
   ],
   "source": [
    "# Descriptive stats for algorithm results\n",
    "df.describe('M_OF','M_TIME','CBC_OF', 'CBC_TIME', 'CBC_FEASIBILITY_CUTS', 'CBC_PENALTY_CUTS').show()"
   ]
  }
 ],
 "metadata": {
  "kernelspec": {
   "display_name": "Python 3",
   "language": "python",
   "name": "python3"
  },
  "language_info": {
   "codemirror_mode": {
    "name": "ipython",
    "version": 3
   },
   "file_extension": ".py",
   "mimetype": "text/x-python",
   "name": "python",
   "nbconvert_exporter": "python",
   "pygments_lexer": "ipython3",
   "version": "3.6.3"
  }
 },
 "nbformat": 4,
 "nbformat_minor": 2
}
