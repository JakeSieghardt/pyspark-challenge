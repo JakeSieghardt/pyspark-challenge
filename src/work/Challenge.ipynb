{
 "cells": [
  {
   "cell_type": "markdown",
   "metadata": {},
   "source": [
    "# Technological Infrastructures for Data Science\n",
    "## Spark Challenge - Andrea Seveso (781856)\n",
    "Let's start by importing libraries and dataset.\n",
    "Then we will check the schema"
   ]
  },
  {
   "cell_type": "code",
   "execution_count": 103,
   "metadata": {
    "scrolled": true
   },
   "outputs": [
    {
     "name": "stdout",
     "output_type": "stream",
     "text": [
      "root\n",
      " |-- F1: integer (nullable = true)\n",
      " |-- F2: integer (nullable = true)\n",
      " |-- F3: integer (nullable = true)\n",
      " |-- F4: string (nullable = true)\n",
      " |-- Rep: integer (nullable = true)\n",
      " |-- M_OF: integer (nullable = true)\n",
      " |-- M_TIME(s): string (nullable = true)\n",
      " |-- CBC_OF: integer (nullable = true)\n",
      " |-- CBC_TIME: string (nullable = true)\n",
      " |-- CBC_#FEASIBILITY CUTS: integer (nullable = true)\n",
      " |-- CBC_# PENALTY CUTS: integer (nullable = true)\n",
      " |-- _c11: string (nullable = true)\n",
      " |-- _c12: string (nullable = true)\n",
      " |-- _c13: string (nullable = true)\n",
      " |-- _c14: string (nullable = true)\n",
      " |-- _c15: string (nullable = true)\n",
      " |-- _c16: string (nullable = true)\n",
      " |-- _c17: string (nullable = true)\n",
      " |-- _c18: string (nullable = true)\n",
      "\n"
     ]
    }
   ],
   "source": [
    "# Import libs\n",
    "%matplotlib inline\n",
    "from pyspark import SparkContext\n",
    "from pyspark.sql import SQLContext\n",
    "from pyspark.sql.functions import udf\n",
    "from pyspark.sql.types import *\n",
    "import matplotlib.pyplot as plt\n",
    "from pyspark.mllib.stat import Statistics\n",
    "\n",
    "# Create Spark context\n",
    "sc = SparkContext.getOrCreate()\n",
    "sqlContext = SQLContext(sc)\n",
    "\n",
    "# Load data frame\n",
    "df = sqlContext.read.format('com.databricks.spark.csv').\\\n",
    "options(header='true', inferschema='true', sep = \";\").load('../data/risultati_totali.csv')\n",
    "\n",
    "# Print df schema\n",
    "df.printSchema()"
   ]
  },
  {
   "cell_type": "markdown",
   "metadata": {},
   "source": [
    "## Cleaning the schema\n",
    "There are some problems with the data frame:\n",
    "1. Some columns have special characters: #, (). Let's remove these.\n",
    "2. The columns M_TIME and CBC_TIME are cast as string, but they should be as double. Also, the decimal delimiter is comma instead of dot.\n",
    "3. There are some useless empty columns in the end (all NAs). They should be removed aswell.\n",
    "4. To perform tests we need to also cast OF columns as float."
   ]
  },
  {
   "cell_type": "code",
   "execution_count": 105,
   "metadata": {},
   "outputs": [
    {
     "name": "stdout",
     "output_type": "stream",
     "text": [
      "root\n",
      " |-- F1: integer (nullable = true)\n",
      " |-- F2: integer (nullable = true)\n",
      " |-- F3: integer (nullable = true)\n",
      " |-- F4: string (nullable = true)\n",
      " |-- Rep: integer (nullable = true)\n",
      " |-- M_OF: float (nullable = true)\n",
      " |-- M_TIME: float (nullable = true)\n",
      " |-- CBC_OF: float (nullable = true)\n",
      " |-- CBC_TIME: float (nullable = true)\n",
      " |-- CBC_FEASIBILITY_CUTS: integer (nullable = true)\n",
      " |-- CBC_PENALTY_CUTS: integer (nullable = true)\n",
      "\n",
      "+---+---+---+---+---+-----+------+------+--------+--------------------+----------------+\n",
      "| F1| F2| F3| F4|Rep| M_OF|M_TIME|CBC_OF|CBC_TIME|CBC_FEASIBILITY_CUTS|CBC_PENALTY_CUTS|\n",
      "+---+---+---+---+---+-----+------+------+--------+--------------------+----------------+\n",
      "|  3|400|  9|  A|  1|361.0| 0.266| 361.0|   0.462|                   0|               0|\n",
      "|  3|400|  9|  A|  2|306.0| 0.511| 306.0|   0.106|                   0|               0|\n",
      "|  3|400|  9|  A|  3|271.0| 1.052| 271.0|   1.646|                   0|               4|\n",
      "|  3|400|  6|  A|  4|263.0| 0.556| 263.0|   0.179|                   0|               1|\n",
      "|  3|400|  9|  A|  5|307.0| 4.706| 307.0|   4.633|                   0|               4|\n",
      "+---+---+---+---+---+-----+------+------+--------+--------------------+----------------+\n",
      "only showing top 5 rows\n",
      "\n"
     ]
    }
   ],
   "source": [
    "# User defined function to replace commas and cast as float\n",
    "commaToDot = udf(lambda x : float(str(x).replace(',', '.')), FloatType())\n",
    "\n",
    "# Rename columns with special characters\n",
    "df = df.withColumnRenamed(\"M_TIME(s)\", \"M_TIME\").\\\n",
    "    withColumnRenamed(\"CBC_# PENALTY CUTS\", \"CBC_PENALTY_CUTS\").\\\n",
    "    withColumnRenamed(\"CBC_#FEASIBILITY CUTS\", \"CBC_FEASIBILITY_CUTS\")\n",
    "\n",
    "# Cast as float columns and keep only useful columns\n",
    "df = df.withColumn('CBC_TIME', commaToDot(df.CBC_TIME)).\\\n",
    "    withColumn('M_TIME', commaToDot(df.M_TIME)).\\\n",
    "    withColumn(\"M_OF\", df[\"M_OF\"].cast(\"float\")).\\\n",
    "    withColumn(\"CBC_OF\", df[\"CBC_OF\"].cast(\"float\")).\\\n",
    "    select(\"F1\", \"F2\", \"F3\", \"F4\", \"Rep\", \"M_OF\", \"M_TIME\", \"CBC_OF\", \"CBC_TIME\", \"CBC_FEASIBILITY_CUTS\", \"CBC_PENALTY_CUTS\")\n",
    "\n",
    "# Cache the df\n",
    "df.cache()\n",
    "\n",
    "# Check if everything is ok now\n",
    "df.printSchema()\n",
    "df.show(5)"
   ]
  },
  {
   "cell_type": "markdown",
   "metadata": {},
   "source": [
    "# Descriptive statistics\n",
    "Let's check some descriptive statistics about the features and algorithm results."
   ]
  },
  {
   "cell_type": "code",
   "execution_count": 106,
   "metadata": {},
   "outputs": [
    {
     "name": "stdout",
     "output_type": "stream",
     "text": [
      "+-------+------------------+-----------------+------------------+----+\n",
      "|summary|                F1|               F2|                F3|  F4|\n",
      "+-------+------------------+-----------------+------------------+----+\n",
      "|  count|               360|              360|               360| 360|\n",
      "|   mean|               6.0|            500.0| 9.155555555555555|null|\n",
      "| stddev|2.9480176050089826|81.76329719869562|1.6295400592512068|null|\n",
      "|    min|                 3|              400|                 6|   A|\n",
      "|    max|                10|              600|                14|   D|\n",
      "+-------+------------------+-----------------+------------------+----+\n",
      "\n"
     ]
    }
   ],
   "source": [
    "# Descriptive stats for features\n",
    "df.describe('F1','F2','F3', 'F4').show()"
   ]
  },
  {
   "cell_type": "code",
   "execution_count": 107,
   "metadata": {},
   "outputs": [
    {
     "name": "stdout",
     "output_type": "stream",
     "text": [
      "+-------+----------------+------------------+------------------+------------------+--------------------+-----------------+\n",
      "|summary|            M_OF|            M_TIME|            CBC_OF|          CBC_TIME|CBC_FEASIBILITY_CUTS| CBC_PENALTY_CUTS|\n",
      "+-------+----------------+------------------+------------------+------------------+--------------------+-----------------+\n",
      "|  count|             360|               360|               360|               360|                 360|              360|\n",
      "|   mean|         271.575|105.12110819009443|270.85833333333335| 87.07493861282968|0.019444444444444445|4.852777777777778|\n",
      "| stddev|98.3542284190714|494.45800971272115| 98.25782943139056|382.65763169719463| 0.15713210460545812| 10.1040819162897|\n",
      "|    min|            82.0|              0.08|              82.0|              0.01|                   0|                0|\n",
      "|    max|           658.0|            3600.0|             658.0|            3600.0|                   2|               73|\n",
      "+-------+----------------+------------------+------------------+------------------+--------------------+-----------------+\n",
      "\n"
     ]
    }
   ],
   "source": [
    "# Descriptive stats for algorithm results\n",
    "df.describe('M_OF','M_TIME','CBC_OF', 'CBC_TIME', 'CBC_FEASIBILITY_CUTS', 'CBC_PENALTY_CUTS').show()"
   ]
  },
  {
   "cell_type": "markdown",
   "metadata": {},
   "source": [
    "# Visualizing the dataset\n",
    "Since the dataset is small enough, we can convert it to a pandas dataframe to visualize it.  \n",
    "If it were too large, we could have used the function sample to extract some data."
   ]
  },
  {
   "cell_type": "code",
   "execution_count": 109,
   "metadata": {},
   "outputs": [],
   "source": [
    "# Converting to Pandas for visualization with Matplotlib\n",
    "dfPanda = df.toPandas()"
   ]
  },
  {
   "cell_type": "code",
   "execution_count": 110,
   "metadata": {},
   "outputs": [
    {
     "data": {
      "image/png": "[encoded data removed]",
      "text/plain": [
       "<Figure size 432x432 with 4 Axes>"
      ]
     },
     "metadata": {
      "needs_background": "light"
     },
     "output_type": "display_data"
    }
   ],
   "source": [
    "fs = 10 \n",
    "fig, axes = plt.subplots(nrows=2, ncols=2, figsize=(6, 6))\n",
    "\n",
    "axes[0, 0].boxplot(dfPanda['F1'], showmeans=True, notch=True)\n",
    "axes[0, 0].set_title('F1', fontsize=fs)\n",
    "\n",
    "axes[0, 1].boxplot(dfPanda['F2'], showmeans=True, notch=True)\n",
    "axes[0, 1].set_title('F2', fontsize=fs)\n",
    "\n",
    "axes[1, 0].boxplot(dfPanda['F3'], showmeans=True, notch=True)\n",
    "axes[1, 0].set_title('F3', fontsize=fs)\n",
    "\n",
    "axes[1, 1].hist(dfPanda['F4'])\n",
    "axes[1, 1].set_title('F4', fontsize=fs)\n",
    "\n",
    "fig.subplots_adjust(hspace=0.4)\n",
    "plt.show()"
   ]
  },
  {
   "cell_type": "code",
   "execution_count": 111,
   "metadata": {},
   "outputs": [
    {
     "data": {
      "image/png": "[encoded data removed]",
      "text/plain": [
       "<Figure size 576x720 with 6 Axes>"
      ]
     },
     "metadata": {
      "needs_background": "light"
     },
     "output_type": "display_data"
    }
   ],
   "source": [
    "fig, axes = plt.subplots(nrows=3, ncols=2, figsize=(8, 10))\n",
    "\n",
    "axes[0, 0].boxplot(dfPanda['M_OF'], showmeans=True, notch=True)\n",
    "axes[0, 0].set_title('M_OF', fontsize=fs)\n",
    "\n",
    "axes[0, 1].boxplot(dfPanda['CBC_OF'], showmeans=True, notch=True)\n",
    "axes[0, 1].set_title('CBC_OF', fontsize=fs)\n",
    "\n",
    "axes[1, 0].boxplot(dfPanda['M_TIME'], showmeans=True, notch=True)\n",
    "axes[1, 0].set_title('M_TIME', fontsize=fs)\n",
    "\n",
    "axes[1, 1].boxplot(dfPanda['CBC_TIME'], showmeans=True, notch=True)\n",
    "axes[1, 1].set_title('CBC_TIME', fontsize=fs)\n",
    "\n",
    "axes[2, 0].hist(dfPanda['CBC_FEASIBILITY_CUTS'])\n",
    "axes[2, 0].set_title('CBC_FEASIBILITY_CUTS', fontsize=fs)\n",
    "\n",
    "axes[2, 1].boxplot(dfPanda['CBC_PENALTY_CUTS'], showmeans=True, notch=True)\n",
    "axes[2, 1].set_title('CBC_PENALTY_CUTS', fontsize=fs)\n",
    "\n",
    "fig.subplots_adjust(hspace=0.4)\n",
    "plt.show()"
   ]
  },
  {
   "cell_type": "markdown",
   "metadata": {},
   "source": [
    "# What's with the outliers?!  \n",
    "The time of execution of algorithms for some element seems way off.  \n",
    "We could see it at the descriptive statistics:  \n",
    "E.g. for CBC_TIME mean is 87.07, std is 382.6 (ouch) and max is 3600... 9 standard deviations away from the mean!  \n",
    "We will have to investigate on what is the root cause of this."
   ]
  },
  {
   "cell_type": "markdown",
   "metadata": {},
   "source": [
    "# Comparison between M and CBC: OF values\n",
    "Let's compare the OF values between the two algorithms.  \n",
    "I will include once again the boxplots for clarity sake."
   ]
  },
  {
   "cell_type": "code",
   "execution_count": 112,
   "metadata": {},
   "outputs": [
    {
     "data": {
      "image/png": "[encoded data removed]",
      "text/plain": [
       "<Figure size 576x288 with 2 Axes>"
      ]
     },
     "metadata": {
      "needs_background": "light"
     },
     "output_type": "display_data"
    }
   ],
   "source": [
    "fig, axes = plt.subplots(nrows=1, ncols=2, figsize=(8, 4))\n",
    "\n",
    "axes[0].boxplot(dfPanda['M_OF'], showmeans=True, notch=True)\n",
    "axes[0].set_title('M_OF', fontsize=fs)\n",
    "\n",
    "axes[1 ].boxplot(dfPanda['CBC_OF'], showmeans=True, notch=True)\n",
    "axes[1].set_title('CBC_OF', fontsize=fs)\n",
    "\n",
    "fig.subplots_adjust(hspace=0.4)\n",
    "plt.show()"
   ]
  },
  {
   "cell_type": "markdown",
   "metadata": {},
   "source": [
    "The means and medians seem to be pretty close.  \n",
    "To be sure, we should run a statistical test.  \n",
    "First, transform the dataframe to a RDD, then run KS tests to check for normality.  \n",
    "Unfortunately, pyspark includes only chi-squared and KS tests. I wanted to check for normality first, and then use t-tests or mann-whitney to compare distributions."
   ]
  },
  {
   "cell_type": "code",
   "execution_count": 113,
   "metadata": {},
   "outputs": [
    {
     "data": {
      "text/plain": [
       "[Row(F1=3, F2=400, F3=9, F4='A', Rep=1, M_OF=361.0, M_TIME=0.26600000262260437, CBC_OF=361.0, CBC_TIME=0.4620000123977661, CBC_FEASIBILITY_CUTS=0, CBC_PENALTY_CUTS=0),\n",
       " Row(F1=3, F2=400, F3=9, F4='A', Rep=2, M_OF=306.0, M_TIME=0.5109999775886536, CBC_OF=306.0, CBC_TIME=0.10599999874830246, CBC_FEASIBILITY_CUTS=0, CBC_PENALTY_CUTS=0)]"
      ]
     },
     "execution_count": 113,
     "metadata": {},
     "output_type": "execute_result"
    }
   ],
   "source": [
    "rdd = df.rdd\n",
    "rdd.take(2)"
   ]
  },
  {
   "cell_type": "code",
   "execution_count": 114,
   "metadata": {},
   "outputs": [],
   "source": [
    "def print_ks(group_1, group_2):\n",
    "    kstest = Statistics.kolmogorovSmirnovTest\n",
    "    ksmodel = kstest(group_1, group_2)\n",
    "    print(\"KS Statistic:\", round(ksmodel.statistic, 4))\n",
    "    print(\"P-Value:\", round(ksmodel.pValue, 4))"
   ]
  },
  {
   "cell_type": "code",
   "execution_count": 116,
   "metadata": {},
   "outputs": [
    {
     "name": "stdout",
     "output_type": "stream",
     "text": [
      "KS Statistic: 1.0\n",
      "P-Value: 0.0\n",
      "==================\n",
      "KS Statistic: 1.0\n",
      "P-Value: 0.0\n"
     ]
    }
   ],
   "source": [
    "rdd_m_of = rdd.map(lambda t:(t.M_OF))\n",
    "rdd_cbc_of = rdd.map(lambda t:(t.CBC_OF))\n",
    "\n",
    "# Check against normality\n",
    "print_ks(rdd_m_of, \"norm\")\n",
    "print(\"==================\")\n",
    "print_ks(rdd_cbc_of, \"norm\")"
   ]
  },
  {
   "cell_type": "markdown",
   "metadata": {},
   "source": [
    "Both follow the normal distribution very closely (P < 0.001).  \n",
    "Now let's compare them to each other:"
   ]
  },
  {
   "cell_type": "code",
   "execution_count": 121,
   "metadata": {},
   "outputs": [
    {
     "ename": "ValueError",
     "evalue": "observed should be an RDD of LabeledPoint",
     "output_type": "error",
     "traceback": [
      "\u001b[0;31m---------------------------------------------------------------------------\u001b[0m",
      "\u001b[0;31mValueError\u001b[0m                                Traceback (most recent call last)",
      "\u001b[0;32m<ipython-input-121-fcbc2bc3f3b4>\u001b[0m in \u001b[0;36m<module>\u001b[0;34m\u001b[0m\n\u001b[0;32m----> 1\u001b[0;31m \u001b[0mStatistics\u001b[0m\u001b[0;34m.\u001b[0m\u001b[0mchiSqTest\u001b[0m\u001b[0;34m(\u001b[0m\u001b[0mrdd_m_of\u001b[0m\u001b[0;34m,\u001b[0m \u001b[0mrdd_cbc_of\u001b[0m\u001b[0;34m)\u001b[0m\u001b[0;34m\u001b[0m\u001b[0m\n\u001b[0m",
      "\u001b[0;32m/usr/local/spark/python/pyspark/mllib/stat/_statistics.py\u001b[0m in \u001b[0;36mchiSqTest\u001b[0;34m(observed, expected)\u001b[0m\n\u001b[1;32m    230\u001b[0m         \u001b[0;32mif\u001b[0m \u001b[0misinstance\u001b[0m\u001b[0;34m(\u001b[0m\u001b[0mobserved\u001b[0m\u001b[0;34m,\u001b[0m \u001b[0mRDD\u001b[0m\u001b[0;34m)\u001b[0m\u001b[0;34m:\u001b[0m\u001b[0;34m\u001b[0m\u001b[0m\n\u001b[1;32m    231\u001b[0m             \u001b[0;32mif\u001b[0m \u001b[0;32mnot\u001b[0m \u001b[0misinstance\u001b[0m\u001b[0;34m(\u001b[0m\u001b[0mobserved\u001b[0m\u001b[0;34m.\u001b[0m\u001b[0mfirst\u001b[0m\u001b[0;34m(\u001b[0m\u001b[0;34m)\u001b[0m\u001b[0;34m,\u001b[0m \u001b[0mLabeledPoint\u001b[0m\u001b[0;34m)\u001b[0m\u001b[0;34m:\u001b[0m\u001b[0;34m\u001b[0m\u001b[0m\n\u001b[0;32m--> 232\u001b[0;31m                 \u001b[0;32mraise\u001b[0m \u001b[0mValueError\u001b[0m\u001b[0;34m(\u001b[0m\u001b[0;34m\"observed should be an RDD of LabeledPoint\"\u001b[0m\u001b[0;34m)\u001b[0m\u001b[0;34m\u001b[0m\u001b[0m\n\u001b[0m\u001b[1;32m    233\u001b[0m             \u001b[0mjmodels\u001b[0m \u001b[0;34m=\u001b[0m \u001b[0mcallMLlibFunc\u001b[0m\u001b[0;34m(\u001b[0m\u001b[0;34m\"chiSqTest\"\u001b[0m\u001b[0;34m,\u001b[0m \u001b[0mobserved\u001b[0m\u001b[0;34m)\u001b[0m\u001b[0;34m\u001b[0m\u001b[0m\n\u001b[1;32m    234\u001b[0m             \u001b[0;32mreturn\u001b[0m \u001b[0;34m[\u001b[0m\u001b[0mChiSqTestResult\u001b[0m\u001b[0;34m(\u001b[0m\u001b[0mm\u001b[0m\u001b[0;34m)\u001b[0m \u001b[0;32mfor\u001b[0m \u001b[0mm\u001b[0m \u001b[0;32min\u001b[0m \u001b[0mjmodels\u001b[0m\u001b[0;34m]\u001b[0m\u001b[0;34m\u001b[0m\u001b[0m\n",
      "\u001b[0;31mValueError\u001b[0m: observed should be an RDD of LabeledPoint"
     ]
    }
   ],
   "source": [
    "Statistics.chiSqTest(rdd_m_of, rdd_cbc_of)"
   ]
  },
  {
   "cell_type": "markdown",
   "metadata": {},
   "source": [
    "# Comparison between M and CBC: Time values\n",
    "Let's compare the Time values between the two algorithms.\n",
    "I will include once again the boxplots for clarity sake."
   ]
  },
  {
   "cell_type": "code",
   "execution_count": 117,
   "metadata": {},
   "outputs": [
    {
     "data": {
      "image/png": "[encoded data removed]",
      "text/plain": [
       "<Figure size 576x288 with 2 Axes>"
      ]
     },
     "metadata": {
      "needs_background": "light"
     },
     "output_type": "display_data"
    }
   ],
   "source": [
    "fig, axes = plt.subplots(nrows=1, ncols=2, figsize=(8, 4))\n",
    "\n",
    "axes[0].boxplot(dfPanda['M_TIME'], showmeans=True, notch=True)\n",
    "axes[0].set_title('M_TIME', fontsize=fs)\n",
    "\n",
    "axes[1 ].boxplot(dfPanda['CBC_TIME'], showmeans=True, notch=True)\n",
    "axes[1].set_title('CBC_TIME', fontsize=fs)\n",
    "\n",
    "fig.subplots_adjust(hspace=0.4)\n",
    "plt.show()"
   ]
  },
  {
   "cell_type": "markdown",
   "metadata": {},
   "source": [
    "Again, let's check for normality:"
   ]
  },
  {
   "cell_type": "code",
   "execution_count": 118,
   "metadata": {},
   "outputs": [
    {
     "name": "stdout",
     "output_type": "stream",
     "text": [
      "KS Statistic: 0.597\n",
      "P-Value: 0.0\n",
      "==================\n",
      "KS Statistic: 0.504\n",
      "P-Value: 0.0\n"
     ]
    }
   ],
   "source": [
    "rdd_m_time = rdd.map(lambda t:(t.M_TIME))\n",
    "rdd_cbc_time = rdd.map(lambda t:(t.CBC_TIME))\n",
    "\n",
    "print_ks(rdd_m_time, \"norm\")\n",
    "print(\"==================\")\n",
    "print_ks(rdd_cbc_time, \"norm\")"
   ]
  },
  {
   "cell_type": "markdown",
   "metadata": {},
   "source": [
    "Both follow the normal distribution very closely (P < 0.001).  \n",
    "Something is wrong with the outliers though!"
   ]
  },
  {
   "cell_type": "markdown",
   "metadata": {},
   "source": [
    "# Correlations"
   ]
  },
  {
   "cell_type": "code",
   "execution_count": 74,
   "metadata": {},
   "outputs": [
    {
     "name": "stdout",
     "output_type": "stream",
     "text": [
      "0.9932905207986286\n",
      "====================\n",
      "-0.11123808324975266\n",
      "0.463596391709694\n",
      "0.5765402137372899\n",
      "0.16661256003220257\n",
      "===================\n",
      "-0.12127124559238475\n",
      "0.4697721122055157\n",
      "0.5790740229425932\n",
      "0.20623678549018049\n",
      "0.0054109566987369856\n",
      "0.15361917009910978\n",
      "===================\n",
      "0.292599229959367\n",
      "0.14300332207966585\n",
      "0.17971378255658738\n",
      "0.041502429169561206\n",
      "0.6653458606600094\n"
     ]
    }
   ],
   "source": [
    "print(df.stat.corr('M_OF', 'CBC_OF'))\n",
    "print(\"====================\")\n",
    "print(df.stat.corr('M_OF', 'F1'))\n",
    "print(df.stat.corr('M_OF', 'F2'))\n",
    "print(df.stat.corr('M_OF', 'F3'))\n",
    "print(df.stat.corr('M_OF', 'M_TIME'))\n",
    "print(\"===================\")\n",
    "print(df.stat.corr('CBC_OF', 'F1'))\n",
    "print(df.stat.corr('CBC_OF', 'F2'))\n",
    "print(df.stat.corr('CBC_OF', 'F3'))\n",
    "print(df.stat.corr('CBC_OF', 'CBC_TIME'))\n",
    "print(df.stat.corr('CBC_OF', 'CBC_FEASIBILITY_CUTS'))\n",
    "print(df.stat.corr('CBC_OF', 'CBC_PENALTY_CUTS'))\n",
    "print(\"===================\")\n",
    "print(df.stat.corr('CBC_TIME', 'F1'))\n",
    "print(df.stat.corr('CBC_TIME', 'F2'))\n",
    "print(df.stat.corr('CBC_TIME', 'F3'))\n",
    "print(df.stat.corr('CBC_TIME', 'CBC_FEASIBILITY_CUTS'))\n",
    "print(df.stat.corr('CBC_TIME', 'CBC_PENALTY_CUTS'))"
   ]
  }
 ],
 "metadata": {
  "kernelspec": {
   "display_name": "Python 3",
   "language": "python",
   "name": "python3"
  },
  "language_info": {
   "codemirror_mode": {
    "name": "ipython",
    "version": 3
   },
   "file_extension": ".py",
   "mimetype": "text/x-python",
   "name": "python",
   "nbconvert_exporter": "python",
   "pygments_lexer": "ipython3",
   "version": "3.6.3"
  }
 },
 "nbformat": 4,
 "nbformat_minor": 2
}
