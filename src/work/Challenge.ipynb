{
 "cells": [
  {
   "cell_type": "markdown",
   "metadata": {},
   "source": [
    "# Technological Infrastructures for Data Science\n",
    "## Spark Challenge - Andrea Seveso (781856)\n",
    "Let's start by importing libraries and dataset.\n",
    "Then we will check the schema"
   ]
  },
  {
   "cell_type": "code",
   "execution_count": 1,
   "metadata": {
    "scrolled": true
   },
   "outputs": [
    {
     "name": "stdout",
     "output_type": "stream",
     "text": [
      "root\n",
      " |-- F1: integer (nullable = true)\n",
      " |-- F2: integer (nullable = true)\n",
      " |-- F3: integer (nullable = true)\n",
      " |-- F4: string (nullable = true)\n",
      " |-- Rep: integer (nullable = true)\n",
      " |-- M_OF: integer (nullable = true)\n",
      " |-- M_TIME(s): string (nullable = true)\n",
      " |-- CBC_OF: integer (nullable = true)\n",
      " |-- CBC_TIME: string (nullable = true)\n",
      " |-- CBC_#FEASIBILITY CUTS: integer (nullable = true)\n",
      " |-- CBC_# PENALTY CUTS: integer (nullable = true)\n",
      " |-- _c11: string (nullable = true)\n",
      " |-- _c12: string (nullable = true)\n",
      " |-- _c13: string (nullable = true)\n",
      " |-- _c14: string (nullable = true)\n",
      " |-- _c15: string (nullable = true)\n",
      " |-- _c16: string (nullable = true)\n",
      " |-- _c17: string (nullable = true)\n",
      " |-- _c18: string (nullable = true)\n",
      "\n"
     ]
    }
   ],
   "source": [
    "# Import libs\n",
    "%matplotlib inline\n",
    "from pyspark import SparkContext\n",
    "from pyspark.sql import SQLContext\n",
    "from pyspark.sql.functions import udf\n",
    "from pyspark.sql.types import *\n",
    "import matplotlib.pyplot as plt\n",
    "\n",
    "# Create Spark context\n",
    "sc = SparkContext.getOrCreate()\n",
    "sqlContext = SQLContext(sc)\n",
    "\n",
    "# Load data frame\n",
    "df = sqlContext.read.format('com.databricks.spark.csv').\\\n",
    "options(header='true', inferschema='true', sep = \";\").load('../data/risultati_totali.csv')\n",
    "\n",
    "# Print df schema\n",
    "df.printSchema()"
   ]
  },
  {
   "cell_type": "markdown",
   "metadata": {},
   "source": [
    "## Cleaning the schema\n",
    "There are some problems with the data frame:\n",
    "1. Some columns have special characters: #, (). Let's remove these.\n",
    "2. The columns M_TIME and CBC_TIME are cast as string, but they should be as double. Also, the decimal delimiter is comma instead of dot.\n",
    "3. There are some useless empty columns in the end (all NAs). They should be removed aswell."
   ]
  },
  {
   "cell_type": "code",
   "execution_count": 2,
   "metadata": {},
   "outputs": [
    {
     "name": "stdout",
     "output_type": "stream",
     "text": [
      "root\n",
      " |-- F1: integer (nullable = true)\n",
      " |-- F2: integer (nullable = true)\n",
      " |-- F3: integer (nullable = true)\n",
      " |-- F4: string (nullable = true)\n",
      " |-- Rep: integer (nullable = true)\n",
      " |-- M_OF: integer (nullable = true)\n",
      " |-- M_TIME: float (nullable = true)\n",
      " |-- CBC_OF: integer (nullable = true)\n",
      " |-- CBC_TIME: float (nullable = true)\n",
      " |-- CBC_FEASIBILITY_CUTS: integer (nullable = true)\n",
      " |-- CBC_PENALTY_CUTS: integer (nullable = true)\n",
      "\n",
      "+---+---+---+---+---+----+------+------+--------+--------------------+----------------+\n",
      "| F1| F2| F3| F4|Rep|M_OF|M_TIME|CBC_OF|CBC_TIME|CBC_FEASIBILITY_CUTS|CBC_PENALTY_CUTS|\n",
      "+---+---+---+---+---+----+------+------+--------+--------------------+----------------+\n",
      "|  3|400|  9|  A|  1| 361| 0.266|   361|   0.462|                   0|               0|\n",
      "|  3|400|  9|  A|  2| 306| 0.511|   306|   0.106|                   0|               0|\n",
      "|  3|400|  9|  A|  3| 271| 1.052|   271|   1.646|                   0|               4|\n",
      "|  3|400|  6|  A|  4| 263| 0.556|   263|   0.179|                   0|               1|\n",
      "|  3|400|  9|  A|  5| 307| 4.706|   307|   4.633|                   0|               4|\n",
      "+---+---+---+---+---+----+------+------+--------+--------------------+----------------+\n",
      "only showing top 5 rows\n",
      "\n"
     ]
    }
   ],
   "source": [
    "# User defined function to replace commas and cast as float\n",
    "commaToDot = udf(lambda x : float(str(x).replace(',', '.')), FloatType())\n",
    "\n",
    "# Rename columns with special characters\n",
    "df = df.withColumnRenamed(\"M_TIME(s)\", \"M_TIME\").\\\n",
    "    withColumnRenamed(\"CBC_# PENALTY CUTS\", \"CBC_PENALTY_CUTS\").\\\n",
    "    withColumnRenamed(\"CBC_#FEASIBILITY CUTS\", \"CBC_FEASIBILITY_CUTS\")\n",
    "\n",
    "# Cast as float columns and keep only useful columns\n",
    "df = df.withColumn('CBC_TIME', commaToDot(df.CBC_TIME)).\\\n",
    "    withColumn('M_TIME', commaToDot(df.M_TIME)).\\\n",
    "    select(\"F1\", \"F2\", \"F3\", \"F4\", \"Rep\", \"M_OF\", \"M_TIME\", \"CBC_OF\", \"CBC_TIME\", \"CBC_FEASIBILITY_CUTS\", \"CBC_PENALTY_CUTS\")\n",
    "\n",
    "# Cache the df\n",
    "df.cache()\n",
    "\n",
    "# Check if everything is ok now\n",
    "df.printSchema()\n",
    "df.show(5)"
   ]
  },
  {
   "cell_type": "markdown",
   "metadata": {},
   "source": [
    "# Descriptive statistics\n",
    "Let's check some descriptive statistics about the features and algorithm results."
   ]
  },
  {
   "cell_type": "code",
   "execution_count": 37,
   "metadata": {},
   "outputs": [
    {
     "name": "stdout",
     "output_type": "stream",
     "text": [
      "+-------+------------------+-----------------+------------------+----+\n",
      "|summary|                F1|               F2|                F3|  F4|\n",
      "+-------+------------------+-----------------+------------------+----+\n",
      "|  count|               360|              360|               360| 360|\n",
      "|   mean|               6.0|            500.0| 9.155555555555555|null|\n",
      "| stddev|2.9480176050089826|81.76329719869562|1.6295400592512068|null|\n",
      "|    min|                 3|              400|                 6|   A|\n",
      "|    max|                10|              600|                14|   D|\n",
      "+-------+------------------+-----------------+------------------+----+\n",
      "\n"
     ]
    }
   ],
   "source": [
    "# Descriptive stats for features\n",
    "df.describe('F1','F2','F3', 'F4').show()"
   ]
  },
  {
   "cell_type": "code",
   "execution_count": 38,
   "metadata": {},
   "outputs": [
    {
     "name": "stdout",
     "output_type": "stream",
     "text": [
      "+-------+----------------+------------------+------------------+------------------+--------------------+-----------------+\n",
      "|summary|            M_OF|            M_TIME|            CBC_OF|          CBC_TIME|CBC_FEASIBILITY_CUTS| CBC_PENALTY_CUTS|\n",
      "+-------+----------------+------------------+------------------+------------------+--------------------+-----------------+\n",
      "|  count|             360|               360|               360|               360|                 360|              360|\n",
      "|   mean|         271.575|105.12110819009443|270.85833333333335| 87.07493861282968|0.019444444444444445|4.852777777777778|\n",
      "| stddev|98.3542284190714|494.45800971272115| 98.25782943139056|382.65763169719463| 0.15713210460545812| 10.1040819162897|\n",
      "|    min|              82|              0.08|                82|              0.01|                   0|                0|\n",
      "|    max|             658|            3600.0|               658|            3600.0|                   2|               73|\n",
      "+-------+----------------+------------------+------------------+------------------+--------------------+-----------------+\n",
      "\n"
     ]
    }
   ],
   "source": [
    "# Descriptive stats for algorithm results\n",
    "df.describe('M_OF','M_TIME','CBC_OF', 'CBC_TIME', 'CBC_FEASIBILITY_CUTS', 'CBC_PENALTY_CUTS').show()"
   ]
  },
  {
   "cell_type": "markdown",
   "metadata": {},
   "source": [
    "# Visualizing the dataset\n",
    "Since the dataset is small enough, we can convert it to a pandas dataframe to visualize it.  \n",
    "If it were too large, we could have used the function sample to extract some data."
   ]
  },
  {
   "cell_type": "code",
   "execution_count": null,
   "metadata": {},
   "outputs": [],
   "source": [
    "# Converting to Pandas for visualization with Matplotlib\n",
    "dfPanda = df.toPandas()"
   ]
  },
  {
   "cell_type": "code",
   "execution_count": 37,
   "metadata": {},
   "outputs": [
    {
     "data": {
      "image/png": "[encoded data removed]",
      "text/plain": [
       "<Figure size 432x432 with 4 Axes>"
      ]
     },
     "metadata": {
      "needs_background": "light"
     },
     "output_type": "display_data"
    }
   ],
   "source": [
    "fs = 10 \n",
    "fig, axes = plt.subplots(nrows=2, ncols=2, figsize=(6, 6))\n",
    "\n",
    "axes[0, 0].boxplot(dfPanda['F1'], showmeans=True, notch=True)\n",
    "axes[0, 0].set_title('F1', fontsize=fs)\n",
    "\n",
    "axes[0, 1].boxplot(dfPanda['F2'], showmeans=True, notch=True)\n",
    "axes[0, 1].set_title('F2', fontsize=fs)\n",
    "\n",
    "axes[1, 0].boxplot(dfPanda['F3'], showmeans=True, notch=True)\n",
    "axes[1, 0].set_title('F3', fontsize=fs)\n",
    "\n",
    "axes[1, 1].hist(dfPanda['F4'])\n",
    "axes[1, 1].set_title('F4', fontsize=fs)\n",
    "\n",
    "fig.subplots_adjust(hspace=0.4)\n",
    "plt.show()"
   ]
  },
  {
   "cell_type": "code",
   "execution_count": 45,
   "metadata": {},
   "outputs": [
    {
     "data": {
      "image/png": "[encoded data removed]",
      "text/plain": [
       "<Figure size 576x720 with 6 Axes>"
      ]
     },
     "metadata": {
      "needs_background": "light"
     },
     "output_type": "display_data"
    }
   ],
   "source": [
    "fig, axes = plt.subplots(nrows=3, ncols=2, figsize=(8, 10))\n",
    "\n",
    "axes[0, 0].boxplot(dfPanda['M_OF'], showmeans=True, notch=True)\n",
    "axes[0, 0].set_title('M_OF', fontsize=fs)\n",
    "\n",
    "axes[0, 1].boxplot(dfPanda['M_TIME'], showmeans=True, notch=True)\n",
    "axes[0, 1].set_title('M_TIME', fontsize=fs)\n",
    "\n",
    "axes[1, 0].boxplot(dfPanda['CBC_OF'], showmeans=True, notch=True)\n",
    "axes[1, 0].set_title('CBC_OF', fontsize=fs)\n",
    "\n",
    "axes[1, 1].boxplot(dfPanda['CBC_TIME'], showmeans=True, notch=True)\n",
    "axes[1, 1].set_title('CBC_TIME', fontsize=fs)\n",
    "\n",
    "axes[2, 0].hist(dfPanda['CBC_FEASIBILITY_CUTS'])\n",
    "axes[2, 0].set_title('CBC_FEASIBILITY_CUTS', fontsize=fs)\n",
    "\n",
    "axes[2, 1].boxplot(dfPanda['CBC_PENALTY_CUTS'], showmeans=True, notch=True)\n",
    "axes[2, 1].set_title('CBC_PENALTY_CUTS', fontsize=fs)\n",
    "\n",
    "fig.subplots_adjust(hspace=0.4)\n",
    "plt.show()"
   ]
  },
  {
   "cell_type": "markdown",
   "metadata": {},
   "source": [
    "# What's with the outliers?!  \n",
    "The time of execution of algorithms for some element seems way off.  \n",
    "We could see it at the descriptive statistics:  \n",
    "E.g. for CBC_TIME mean is 87.07, std is 382.6 (ouch) and max is 3600... 9 standard deviations away from the mean!  \n",
    "We have to investigate on what is the root cause of this."
   ]
  },
  {
   "cell_type": "code",
   "execution_count": 46,
   "metadata": {},
   "outputs": [
    {
     "data": {
      "text/plain": [
       "9.196335078534032"
      ]
     },
     "execution_count": 46,
     "metadata": {},
     "output_type": "execute_result"
    }
   ],
   "source": [
    "(3600 - 87) / 382"
   ]
  }
 ],
 "metadata": {
  "kernelspec": {
   "display_name": "Python 3",
   "language": "python",
   "name": "python3"
  },
  "language_info": {
   "codemirror_mode": {
    "name": "ipython",
    "version": 3
   },
   "file_extension": ".py",
   "mimetype": "text/x-python",
   "name": "python",
   "nbconvert_exporter": "python",
   "pygments_lexer": "ipython3",
   "version": "3.6.3"
  }
 },
 "nbformat": 4,
 "nbformat_minor": 2
}
