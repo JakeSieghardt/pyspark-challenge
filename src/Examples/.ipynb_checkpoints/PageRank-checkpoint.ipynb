{
 "cells": [
  {
   "cell_type": "code",
   "execution_count": null,
   "metadata": {
    "ExecuteTime": {
     "end_time": "2018-07-13T10:26:58.197224Z",
     "start_time": "2018-07-13T09:26:55.810Z"
    }
   },
   "outputs": [],
   "source": [
    "from pyspark import SparkContext\n",
    "\n",
    "sc = SparkContext.getOrCreate()\n",
    "\n",
    "\n",
    "# RDD of (url, neighbors) pairs\n",
    "links = sc.parallelize ([(\"aaa\", [\"bbb\", \"ccc\"]),  (\"bbb\", [\"aaa\"]), (\"ccc\", [\"aaa\"])])\n",
    "links.collect()\n",
    "\n",
    "\n"
   ]
  },
  {
   "cell_type": "code",
   "execution_count": null,
   "metadata": {
    "ExecuteTime": {
     "end_time": "2018-07-13T10:27:13.700470Z",
     "start_time": "2018-07-13T09:27:12.852Z"
    }
   },
   "outputs": [],
   "source": [
    "# RDD of (url, rank) pairs\n",
    "ranks = links.map(lambda url_neighbors: (url_neighbors[0], 1.0))\n",
    "ranks.collect()\n",
    "\n",
    "\n",
    "\n",
    "\n"
   ]
  },
  {
   "cell_type": "code",
   "execution_count": null,
   "metadata": {
    "ExecuteTime": {
     "end_time": "2018-07-13T10:28:46.460290Z",
     "start_time": "2018-07-13T09:28:09.968Z"
    }
   },
   "outputs": [],
   "source": [
    "\n",
    "def compute_contribs(pair):\n",
    "    [url, [links, rank]] = pair  # split key-value pair\n",
    "    return [(dest, rank/len(links)) for dest in links]\n",
    "\n",
    "\n",
    "\n",
    "NUM_ITERATIONS=10\n",
    "\n",
    "for i in range(NUM_ITERATIONS):\n",
    "    # [url, [links, rank]] schema for compute contribs\n",
    "    joinedRDD=links.join(ranks)\n",
    "    print (\"join result \" + str(joinedRDD.collect()))\n",
    "    contribs = links.join(ranks).flatMap(compute_contribs)\n",
    "    print (\"contribs \" + str(contribs.collect()))\n",
    "    ranks = contribs.reduceByKey(lambda x, y: x + y).mapValues(lambda x: 0.15 + 0.85 * x)\n",
    "\n",
    "\n",
    "\n",
    "\n",
    "\n",
    "\n"
   ]
  },
  {
   "cell_type": "code",
   "execution_count": null,
   "metadata": {
    "ExecuteTime": {
     "end_time": "2018-07-13T10:29:15.981504Z",
     "start_time": "2018-07-13T09:29:13.778Z"
    }
   },
   "outputs": [],
   "source": [
    "ranks.collect()"
   ]
  },
  {
   "cell_type": "code",
   "execution_count": null,
   "metadata": {},
   "outputs": [],
   "source": []
  }
 ],
 "metadata": {
  "kernelspec": {
   "display_name": "Python 3",
   "language": "python",
   "name": "python3"
  },
  "language_info": {
   "codemirror_mode": {
    "name": "ipython",
    "version": 3
   },
   "file_extension": ".py",
   "mimetype": "text/x-python",
   "name": "python",
   "nbconvert_exporter": "python",
   "pygments_lexer": "ipython3",
   "version": "3.6.3"
  }
 },
 "nbformat": 4,
 "nbformat_minor": 2
}
