{
 "cells": [
  {
   "cell_type": "code",
   "execution_count": null,
   "metadata": {
    "ExecuteTime": {
     "end_time": "2018-07-12T13:19:00.281002Z",
     "start_time": "2018-07-12T12:18:53.067Z"
    }
   },
   "outputs": [],
   "source": [
    "from pyspark.sql import SQLContext\n",
    "from pyspark.sql.types import *\n",
    "from pyspark import SparkContext\n",
    "from operator import add\n",
    "\n",
    "sc = SparkContext.getOrCreate()\n",
    "sqlContext = SQLContext(sc)\n",
    "\n",
    "df = sqlContext.read.format('com.databricks.spark.csv').options(header='true', inferschema='true').load('prices.csv')\n",
    "\n"
   ]
  },
  {
   "cell_type": "code",
   "execution_count": null,
   "metadata": {
    "ExecuteTime": {
     "end_time": "2018-07-12T13:19:26.262363Z",
     "start_time": "2018-07-12T12:19:25.158Z"
    }
   },
   "outputs": [],
   "source": [
    "dataRDD=df.rdd\n",
    "\n",
    "dataRDD.take(5)\n",
    "\n"
   ]
  },
  {
   "cell_type": "code",
   "execution_count": null,
   "metadata": {
    "ExecuteTime": {
     "end_time": "2018-07-12T13:20:21.782813Z",
     "start_time": "2018-07-12T12:20:19.623Z"
    }
   },
   "outputs": [],
   "source": [
    "#Select the total volumes and the totals for Apple\n",
    "totals=dataRDD.map(lambda x:int(x[-1])).reduce(lambda x,y:x+y)\n",
    "print(totals)\n",
    "\n"
   ]
  },
  {
   "cell_type": "code",
   "execution_count": null,
   "metadata": {
    "ExecuteTime": {
     "end_time": "2018-07-12T13:21:06.148965Z",
     "start_time": "2018-07-12T12:21:04.169Z"
    }
   },
   "outputs": [],
   "source": [
    "appleRDD=dataRDD.filter(lambda x:x[0]==\"AAPL\")\n",
    "appleRDD.cache()\n",
    "print (appleRDD.count())"
   ]
  },
  {
   "cell_type": "code",
   "execution_count": null,
   "metadata": {
    "ExecuteTime": {
     "end_time": "2018-07-12T13:32:57.452959Z",
     "start_time": "2018-07-12T12:32:56.471Z"
    }
   },
   "outputs": [],
   "source": [
    "appleRDD.map(lambda x:int(x[-1])).reduce(add)\n",
    "\n",
    "\n"
   ]
  },
  {
   "cell_type": "code",
   "execution_count": null,
   "metadata": {
    "ExecuteTime": {
     "end_time": "2018-07-12T13:33:01.792432Z",
     "start_time": "2018-07-12T12:33:00.117Z"
    }
   },
   "outputs": [],
   "source": [
    "max_vals=dataRDD.map(lambda x: x[-1]).max()\n",
    "\n",
    "print(max_vals)"
   ]
  },
  {
   "cell_type": "code",
   "execution_count": null,
   "metadata": {
    "ExecuteTime": {
     "end_time": "2018-07-12T13:22:49.344678Z",
     "start_time": "2018-07-12T12:22:48.146Z"
    }
   },
   "outputs": [],
   "source": [
    "dataRDD.filter(lambda x: x[-1]==max_vals).collect()\n",
    "\n"
   ]
  },
  {
   "cell_type": "code",
   "execution_count": null,
   "metadata": {
    "ExecuteTime": {
     "end_time": "2018-07-12T13:23:57.882564Z",
     "start_time": "2018-07-12T12:23:57.730Z"
    }
   },
   "outputs": [],
   "source": [
    "#Determine company, date and time of the session(s) with\n",
    "#the highest variability (max delta between high and low)\n",
    "\n",
    "def delta(x,y):\n",
    "    return x-y\n",
    "\n",
    "#deltaRDD=dataRDD.map(lambda x: (x[0],x[1],x[2],delta(float(x[-4]),float(x[-3]))))\n",
    "deltaRDD=dataRDD.map(lambda x: (x[0:3],delta(float(x[-4]),float(x[-3]))))\n",
    "deltaRDD.take(1)\n"
   ]
  },
  {
   "cell_type": "code",
   "execution_count": null,
   "metadata": {
    "ExecuteTime": {
     "end_time": "2018-07-12T13:24:20.628031Z",
     "start_time": "2018-07-12T12:24:18.498Z"
    }
   },
   "outputs": [],
   "source": [
    "max_var_sessions=deltaRDD.map(lambda x: x[-1]).max()\n",
    "\n",
    "max_var_sessionsRDD=deltaRDD.filter(lambda x: x[-1] == max_var_sessions)\n",
    "\n",
    "max_var_sessionsRDD.collect()\n",
    "\n",
    "\n",
    "\n"
   ]
  },
  {
   "cell_type": "code",
   "execution_count": null,
   "metadata": {
    "ExecuteTime": {
     "end_time": "2018-07-12T13:27:06.073782Z",
     "start_time": "2018-07-12T12:27:05.489Z"
    }
   },
   "outputs": [],
   "source": [
    "df.printSchema()\n",
    "\n"
   ]
  },
  {
   "cell_type": "code",
   "execution_count": null,
   "metadata": {
    "ExecuteTime": {
     "end_time": "2018-07-12T13:29:04.733401Z",
     "start_time": "2018-07-12T12:29:04.258Z"
    }
   },
   "outputs": [],
   "source": [
    "#Select the total volumes and the totals for Apple\n",
    "from pyspark.sql.types import DoubleType\n",
    "from pyspark.sql.types import IntegerType\n",
    "\n",
    "\n",
    "df_data=df.withColumn(\"OPEN\", df[\"OPEN\"].cast(\"double\")).\\\n",
    "           withColumn(\"HIGH\", df[\"HIGH\"].cast(\"double\")).\\\n",
    "           withColumn(\"LOW\", df[\"LOW\"].cast(\"double\")).\\\n",
    "           withColumn(\"CLOSE\", df[\"CLOSE\"].cast(\"double\")).\\\n",
    "           withColumn(\"VOLUME \", df[\"VOLUME \"].cast(\"int\"))\n",
    "\n",
    "df_data.printSchema()\n",
    "\n",
    "\n",
    "\n",
    "\n",
    "\n",
    "\n"
   ]
  },
  {
   "cell_type": "code",
   "execution_count": null,
   "metadata": {
    "ExecuteTime": {
     "end_time": "2018-07-12T13:30:56.293175Z",
     "start_time": "2018-07-12T12:30:54.340Z"
    }
   },
   "outputs": [],
   "source": [
    "totals=df_data.groupBy().sum(\"volume \").collect()[0][0]\n",
    "print(totals)\n",
    "\n"
   ]
  },
  {
   "cell_type": "code",
   "execution_count": null,
   "metadata": {
    "ExecuteTime": {
     "end_time": "2018-07-12T13:31:31.412419Z",
     "start_time": "2018-07-12T12:31:28.648Z"
    }
   },
   "outputs": [],
   "source": [
    "df_apple=df_data.filter(\"SYMBOL == 'AAPL'\")\n",
    "df_apple.cache()\n",
    "\n",
    "print (df_apple.count())\n",
    "\n"
   ]
  },
  {
   "cell_type": "code",
   "execution_count": null,
   "metadata": {
    "ExecuteTime": {
     "end_time": "2018-07-12T13:31:44.177250Z",
     "start_time": "2018-07-12T12:31:42.639Z"
    }
   },
   "outputs": [],
   "source": [
    "df_apple.groupBy().sum(\"volume \").collect()[0][0]\n",
    "\n",
    "\n",
    "\n",
    "\n",
    "\n",
    "\n"
   ]
  },
  {
   "cell_type": "code",
   "execution_count": null,
   "metadata": {
    "ExecuteTime": {
     "end_time": "2018-07-12T13:33:34.951566Z",
     "start_time": "2018-07-12T12:33:32.637Z"
    }
   },
   "outputs": [],
   "source": [
    "#Determine company, date and time of the session(s) with\n",
    "#the highest variability (max delta between high and low)\n",
    "from pyspark.sql.functions import udf\n",
    "\n",
    "delta_udf=udf(delta,DoubleType())\n",
    "\n",
    "\n",
    "df_delta=df_data.select(\"SYMBOL\",\"DATE\",\"TIME\",delta_udf(\"HIGH\",\"LOW\"))\\\n",
    "                .withColumnRenamed(\"delta(HIGH, LOW)\",\"DIFF_HIGH_LOW\")\n",
    "df_delta.show()\n",
    "\n"
   ]
  },
  {
   "cell_type": "code",
   "execution_count": null,
   "metadata": {
    "ExecuteTime": {
     "end_time": "2018-07-12T13:34:24.904392Z",
     "start_time": "2018-07-12T12:34:23.726Z"
    }
   },
   "outputs": [],
   "source": [
    "max_var_sessions=df_delta.select(\"DIFF_HIGH_LOW\").groupBy().max().collect()[0][0]\n",
    "\n",
    "print (max_var_sessions)\n",
    "\n",
    "\n"
   ]
  },
  {
   "cell_type": "code",
   "execution_count": null,
   "metadata": {
    "ExecuteTime": {
     "end_time": "2018-07-12T13:34:56.967447Z",
     "start_time": "2018-07-12T12:34:55.858Z"
    }
   },
   "outputs": [],
   "source": [
    "\n",
    "df_max_var_sessions=df_delta.filter( max_var_sessions == df_delta.DIFF_HIGH_LOW)\n",
    "\n",
    "\n",
    "df_max_var_sessions.show()\n",
    "\n",
    "\n"
   ]
  },
  {
   "cell_type": "code",
   "execution_count": null,
   "metadata": {},
   "outputs": [],
   "source": []
  },
  {
   "cell_type": "code",
   "execution_count": null,
   "metadata": {},
   "outputs": [],
   "source": []
  }
 ],
 "metadata": {
  "kernelspec": {
   "display_name": "Python 3",
   "language": "python",
   "name": "python3"
  },
  "language_info": {
   "codemirror_mode": {
    "name": "ipython",
    "version": 3
   },
   "file_extension": ".py",
   "mimetype": "text/x-python",
   "name": "python",
   "nbconvert_exporter": "python",
   "pygments_lexer": "ipython3",
   "version": "3.6.3"
  }
 },
 "nbformat": 4,
 "nbformat_minor": 2
}
